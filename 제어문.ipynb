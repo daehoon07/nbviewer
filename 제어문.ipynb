{
 "cells": [
  {
   "cell_type": "markdown",
   "id": "1c1e9e4e",
   "metadata": {},
   "source": [
    "제어문"
   ]
  },
  {
   "cell_type": "code",
   "execution_count": 2,
   "id": "416cb72d",
   "metadata": {},
   "outputs": [
    {
     "name": "stdout",
     "output_type": "stream",
     "text": [
      "조건이 참입니다.\n",
      "조건문이 종료되었습니다.\n"
     ]
    }
   ],
   "source": [
    "if True: \n",
    "          print('조건이 참입니다.')\n",
    "print('조건문이 종료되었습니다.')\n"
   ]
  },
  {
   "cell_type": "code",
   "execution_count": 3,
   "id": "2ebb05c3",
   "metadata": {},
   "outputs": [
    {
     "name": "stdout",
     "output_type": "stream",
     "text": [
      "조건문이 종료되었습니다.\n"
     ]
    }
   ],
   "source": [
    "if False: \n",
    "          print('조건이 참입니다.')\n",
    "print('조건문이 종료되었습니다.')"
   ]
  },
  {
   "cell_type": "code",
   "execution_count": 4,
   "id": "7a316db4",
   "metadata": {},
   "outputs": [
    {
     "name": "stdout",
     "output_type": "stream",
     "text": [
      "걸어간다.\n"
     ]
    }
   ],
   "source": [
    "money = 100\n",
    "if money <= 500:\n",
    "          print('걸어간다.')"
   ]
  },
  {
   "cell_type": "code",
   "execution_count": 5,
   "id": "36858dcc",
   "metadata": {},
   "outputs": [
    {
     "name": "stdout",
     "output_type": "stream",
     "text": [
      "택시탄다.\n"
     ]
    }
   ],
   "source": [
    "money = 1000\n",
    "if money <= 500: \n",
    "          print('걸어간다.')\n",
    "else:\n",
    "     print('택시탄다.')"
   ]
  },
  {
   "cell_type": "code",
   "execution_count": 6,
   "id": "1c6a4859",
   "metadata": {},
   "outputs": [
    {
     "name": "stdout",
     "output_type": "stream",
     "text": [
      "버스탄다.\n"
     ]
    }
   ],
   "source": [
    "money = 1000\n",
    "if money <= 500:\n",
    "          print('걸어간다.')\n",
    "elif money <= 2500:\n",
    "        print('버스탄다.')\n",
    "else:\n",
    "     print('택시탄다.')"
   ]
  },
  {
   "cell_type": "code",
   "execution_count": 7,
   "id": "8fd6ee69",
   "metadata": {},
   "outputs": [
    {
     "name": "stdout",
     "output_type": "stream",
     "text": [
      "n= 1\n",
      "n= 2\n",
      "n= 3\n",
      "n= 4\n",
      "n= 5\n"
     ]
    }
   ],
   "source": [
    "n = 0\n",
    "while n < 5: \n",
    "   n = n+1\n",
    "   print(\"n=\", n)"
   ]
  },
  {
   "cell_type": "code",
   "execution_count": 8,
   "id": "1b9da2a0",
   "metadata": {},
   "outputs": [
    {
     "name": "stdout",
     "output_type": "stream",
     "text": [
      "n= 0\n",
      "n= 1\n",
      "n= 2\n",
      "n= 3\n",
      "n= 4\n",
      "n= 5\n"
     ]
    }
   ],
   "source": [
    "for n in range(0,6):\n",
    "   print(\"n=\", n)\n"
   ]
  },
  {
   "cell_type": "code",
   "execution_count": 9,
   "id": "6ea0c7d7",
   "metadata": {},
   "outputs": [
    {
     "name": "stdout",
     "output_type": "stream",
     "text": [
      "item = 1\n",
      "item = 2\n",
      "item = 3\n",
      "item = 4\n",
      "item = 5\n"
     ]
    }
   ],
   "source": [
    "x_list = [1, 2, 3, 4, 5]\n",
    "for item in x_list:\n",
    "          print(f'{item = }')"
   ]
  },
  {
   "cell_type": "code",
   "execution_count": 10,
   "id": "f3eb84e3",
   "metadata": {},
   "outputs": [
    {
     "name": "stdout",
     "output_type": "stream",
     "text": [
      "<built-in function len>(x) = 5\n",
      "<built-in function max>(x) = 50\n",
      "<built-in function sum>(x) = 150\n"
     ]
    }
   ],
   "source": [
    "x = [10, 20, 30 , 40 , 50]\n",
    "for method in [len, max, sum]:\n",
    "          print(f'{method}(x) = {method(x)}')"
   ]
  },
  {
   "cell_type": "code",
   "execution_count": 11,
   "id": "4c1090e5",
   "metadata": {},
   "outputs": [
    {
     "name": "stdout",
     "output_type": "stream",
     "text": [
      "item = (0, 'a')\n",
      "item = (1, 'b')\n",
      "item = (2, 'c')\n",
      "item = (3, 'd')\n",
      "item = (4, 'e')\n"
     ]
    }
   ],
   "source": [
    "for item in enumerate(['a', 'b', 'c', 'd', 'e']):\n",
    "          print(f'{item = }')"
   ]
  },
  {
   "cell_type": "code",
   "execution_count": 12,
   "id": "c2b2397d",
   "metadata": {},
   "outputs": [
    {
     "name": "stdout",
     "output_type": "stream",
     "text": [
      "i = 0, item = 'a'\n",
      "i = 1, item = 'b'\n",
      "i = 2, item = 'c'\n",
      "i = 3, item = 'd'\n",
      "i = 4, item = 'e'\n"
     ]
    }
   ],
   "source": [
    "for i, item in enumerate(['a','b','c','d','e']):\n",
    "          print(f'{i = }, {item = }')"
   ]
  },
  {
   "cell_type": "code",
   "execution_count": 13,
   "id": "61d5d5c3",
   "metadata": {},
   "outputs": [
    {
     "data": {
      "text/plain": [
       "<zip at 0x1aa1b1de7c0>"
      ]
     },
     "execution_count": 13,
     "metadata": {},
     "output_type": "execute_result"
    }
   ],
   "source": [
    "x_list = [1, 2, 3, 4, 5]\n",
    "y_tuple = ('a', 'b', 'c', 'd', 'e')\n",
    "z_str = 'ABCDE'\n",
    "zip(x_list, y_tuple, z_str)"
   ]
  },
  {
   "cell_type": "code",
   "execution_count": 14,
   "id": "6f9d5b99",
   "metadata": {},
   "outputs": [
    {
     "data": {
      "text/plain": [
       "[(1, 'a', 'A'), (2, 'b', 'B'), (3, 'c', 'C'), (4, 'd', 'D'), (5, 'e', 'E')]"
      ]
     },
     "execution_count": 14,
     "metadata": {},
     "output_type": "execute_result"
    }
   ],
   "source": [
    "list(zip(x_list, y_tuple, z_str))"
   ]
  },
  {
   "cell_type": "code",
   "execution_count": 15,
   "id": "3cf4319b",
   "metadata": {},
   "outputs": [
    {
     "name": "stdout",
     "output_type": "stream",
     "text": [
      "x = 1, y = 'a', z = 'A'\n",
      "x = 2, y = 'b', z = 'B'\n",
      "x = 3, y = 'c', z = 'C'\n",
      "x = 4, y = 'd', z = 'D'\n",
      "x = 5, y = 'e', z = 'E'\n"
     ]
    }
   ],
   "source": [
    "for x, y, z in zip(x_list, y_tuple, z_str):\n",
    "          print(f'{x = }, {y = }, {z = }')"
   ]
  },
  {
   "cell_type": "code",
   "execution_count": 16,
   "id": "78612546",
   "metadata": {},
   "outputs": [
    {
     "name": "stdout",
     "output_type": "stream",
     "text": [
      "i = 0, x = 1, y = 'a', z = 'A'\n",
      "i = 1, x = 2, y = 'b', z = 'B'\n",
      "i = 2, x = 3, y = 'c', z = 'C'\n",
      "i = 3, x = 4, y = 'd', z = 'D'\n",
      "i = 4, x = 5, y = 'e', z = 'E'\n"
     ]
    }
   ],
   "source": [
    "for i,(x, y, z) in enumerate(zip(x_list, y_tuple, z_str)):\n",
    "          print(f'{i = }, {x = }, {y = }, {z = }')"
   ]
  },
  {
   "cell_type": "code",
   "execution_count": 17,
   "id": "7524e682",
   "metadata": {},
   "outputs": [
    {
     "name": "stdout",
     "output_type": "stream",
     "text": [
      "i = 0, item = 'a'\n",
      "i = 1, item = 'b'\n"
     ]
    }
   ],
   "source": [
    "for i, item in enumerate(['a', 'b', 'c', 'd', 'e']):\n",
    "          if i ==2:\n",
    "             break\n",
    "          print(f'{i = }, {item = }')"
   ]
  },
  {
   "cell_type": "code",
   "execution_count": 18,
   "id": "0fa83e3d",
   "metadata": {},
   "outputs": [
    {
     "name": "stdout",
     "output_type": "stream",
     "text": [
      "i = 0, item = 'a'\n",
      "i = 1, item = 'b'\n",
      "i = 3, item = 'd'\n",
      "i = 4, item = 'e'\n"
     ]
    }
   ],
   "source": [
    "for i, item in enumerate(['a', 'b', 'c', 'd', 'e']):\n",
    "          if i == 2:\n",
    "             continue\n",
    "          print(f'{i = }, {item = }')"
   ]
  },
  {
   "cell_type": "code",
   "execution_count": 19,
   "id": "b30fee01",
   "metadata": {},
   "outputs": [
    {
     "name": "stdout",
     "output_type": "stream",
     "text": [
      "i = 0, item = 'a'\n",
      "i = 1, item = 'b'\n",
      "i = 2, item = 'c'\n",
      "i = 3, item = 'd'\n",
      "i = 4, item = 'e'\n"
     ]
    }
   ],
   "source": [
    "for i, item in enumerate(['a','b','c','d','e']):\n",
    "          if i == 2:\n",
    "                  pass\n",
    "          print(f'{i = }, {item = }')"
   ]
  },
  {
   "cell_type": "code",
   "execution_count": 20,
   "id": "d8eb9bed",
   "metadata": {},
   "outputs": [
    {
     "name": "stdout",
     "output_type": "stream",
     "text": [
      "i = (0, 'a'), item = 'e'\n",
      "i = (1, 'b'), item = 'e'\n",
      "i = (2, 'c'), item = 'e'\n",
      "i = (3, 'd'), item = 'e'\n",
      "i = (4, 'e'), item = 'e'\n"
     ]
    }
   ],
   "source": [
    "for i in enumerate(['a','b','c','d','e']):\n",
    "          if i == 2:\n",
    "             print('여기에서 실제로는 종료됨. 편의를 위해 주석처리')\n",
    "          print(f'{i = }, {item = }')"
   ]
  },
  {
   "cell_type": "code",
   "execution_count": 21,
   "id": "b47d788b",
   "metadata": {},
   "outputs": [
    {
     "name": "stdout",
     "output_type": "stream",
     "text": [
      "1x1= 1\t2x2= 2\t3x3= 3\t4x4= 4\t5x5= 5\t6x6= 6\t7x7= 7\t8x8= 8\t9x9= 9\t\n",
      "1x1= 2\t2x2= 4\t3x3= 6\t4x4= 8\t5x5=10\t6x6=12\t7x7=14\t8x8=16\t9x9=18\t\n",
      "1x1= 3\t2x2= 6\t3x3= 9\t4x4=12\t5x5=15\t6x6=18\t7x7=21\t8x8=24\t9x9=27\t\n",
      "1x1= 4\t2x2= 8\t3x3=12\t4x4=16\t5x5=20\t6x6=24\t7x7=28\t8x8=32\t9x9=36\t\n",
      "1x1= 5\t2x2=10\t3x3=15\t4x4=20\t5x5=25\t6x6=30\t7x7=35\t8x8=40\t9x9=45\t\n",
      "1x1= 6\t2x2=12\t3x3=18\t4x4=24\t5x5=30\t6x6=36\t7x7=42\t8x8=48\t9x9=54\t\n",
      "1x1= 7\t2x2=14\t3x3=21\t4x4=28\t5x5=35\t6x6=42\t7x7=49\t8x8=56\t9x9=63\t\n",
      "1x1= 8\t2x2=16\t3x3=24\t4x4=32\t5x5=40\t6x6=48\t7x7=56\t8x8=64\t9x9=72\t\n",
      "1x1= 9\t2x2=18\t3x3=27\t4x4=36\t5x5=45\t6x6=54\t7x7=63\t8x8=72\t9x9=81\t\n"
     ]
    }
   ],
   "source": [
    "for i in range(1,10):\n",
    "          for j in range(1, 10):\n",
    "                  print(f'{j}x{j}={j*i:>2d}', end='\\t')\n",
    "                  if j == 9:\n",
    "                          print()"
   ]
  },
  {
   "cell_type": "code",
   "execution_count": 22,
   "id": "4bd2f79b",
   "metadata": {},
   "outputs": [
    {
     "name": "stdout",
     "output_type": "stream",
     "text": [
      "여기서부터는 응용입니다.\n"
     ]
    }
   ],
   "source": [
    "print('여기서부터는 응용입니다.')"
   ]
  },
  {
   "cell_type": "code",
   "execution_count": 23,
   "id": "1324d184",
   "metadata": {},
   "outputs": [
    {
     "name": "stdout",
     "output_type": "stream",
     "text": [
      "2 3 4 \n"
     ]
    }
   ],
   "source": [
    "#for문 응용\n",
    "for i in range(2, 5):\n",
    "          print(i, end = ' ')\n",
    "print()\n"
   ]
  },
  {
   "cell_type": "code",
   "execution_count": 24,
   "id": "ac1d25cf",
   "metadata": {},
   "outputs": [
    {
     "name": "stdout",
     "output_type": "stream",
     "text": [
      "0 2 4 6 8 \n"
     ]
    }
   ],
   "source": [
    "#for문 응용\n",
    "for i in range(0, 10, 2):\n",
    "          print(i, end = ' ')\n",
    "print()\n"
   ]
  },
  {
   "cell_type": "code",
   "execution_count": 25,
   "id": "efd65267",
   "metadata": {},
   "outputs": [
    {
     "name": "stdout",
     "output_type": "stream",
     "text": [
      "리스트 항목 값의 합 : 150\n"
     ]
    }
   ],
   "source": [
    "#for문 응용\n",
    "numbers = [10, 20 , 30 , 40, 50]\n",
    "s = 0 \n",
    "for n in numbers:\n",
    "          s = s + n\n",
    "\n",
    "print('리스트 항목 값의 합 :', s)"
   ]
  },
  {
   "cell_type": "code",
   "execution_count": 31,
   "id": "a5ef4d57",
   "metadata": {},
   "outputs": [
    {
     "name": "stdout",
     "output_type": "stream",
     "text": [
      "2 *  1 = 2\n",
      "2 *  2 = 4\n",
      "2 *  3 = 6\n",
      "2 *  4 = 8\n",
      "2 *  5 = 10\n",
      "2 *  6 = 12\n",
      "2 *  7 = 14\n",
      "2 *  8 = 16\n",
      "2 *  9 = 18\n"
     ]
    }
   ],
   "source": [
    "#while문 응용\n",
    "i= 0\n",
    "while i < 9:\n",
    "      i=i+1\n",
    "      print(\"2 * \", i,'=' , 2*i)"
   ]
  },
  {
   "cell_type": "code",
   "execution_count": null,
   "id": "28111150",
   "metadata": {},
   "outputs": [
    {
     "name": "stdout",
     "output_type": "stream",
     "text": [
      "2x 2 = 4\n",
      "2x 3 = 6\n",
      "2x 4 = 8\n",
      "2x 5 = 10\n",
      "2x 6 = 12\n",
      "2x 7 = 14\n",
      "2x 8 = 16\n",
      "2x 9 = 18\n",
      "2x 10 = 20\n"
     ]
    }
   ],
   "source": [
    "#for문 응용\n",
    "for i in range (1,10):\n",
    "          i=i+1\n",
    "          print('2x',i, '=', 2*i)"
   ]
  },
  {
   "cell_type": "code",
   "execution_count": null,
   "id": "cd2bd6aa",
   "metadata": {},
   "outputs": [],
   "source": [
    "#팩토리얼 함수 만들기(인터넷에서 fact 함수 알아내어 활용)\n",
    "n = int(input('수를 입력하세요 : '))\n",
    "fact = 1\n",
    "for i in range(1, n+1):\n",
    "         fact = fact*i\n",
    "          \n",
    "print('{}! = {}'.format(n, fact))"
   ]
  },
  {
   "cell_type": "code",
   "execution_count": null,
   "id": "dffa922c",
   "metadata": {},
   "outputs": [],
   "source": []
  },
  {
   "cell_type": "code",
   "execution_count": null,
   "id": "3b63be34",
   "metadata": {},
   "outputs": [],
   "source": []
  },
  {
   "cell_type": "code",
   "execution_count": null,
   "id": "5752224d",
   "metadata": {},
   "outputs": [],
   "source": []
  },
  {
   "cell_type": "code",
   "execution_count": null,
   "id": "a250c1d2",
   "metadata": {},
   "outputs": [],
   "source": []
  },
  {
   "cell_type": "code",
   "execution_count": null,
   "id": "693bedc7",
   "metadata": {},
   "outputs": [],
   "source": []
  },
  {
   "cell_type": "code",
   "execution_count": null,
   "id": "a53cd0e1",
   "metadata": {},
   "outputs": [],
   "source": []
  },
  {
   "cell_type": "code",
   "execution_count": null,
   "id": "482c2f15",
   "metadata": {},
   "outputs": [],
   "source": []
  },
  {
   "cell_type": "code",
   "execution_count": null,
   "id": "318262c3",
   "metadata": {},
   "outputs": [],
   "source": []
  },
  {
   "cell_type": "code",
   "execution_count": null,
   "id": "6b3c66d3",
   "metadata": {},
   "outputs": [],
   "source": []
  },
  {
   "cell_type": "code",
   "execution_count": null,
   "id": "8e51f48d",
   "metadata": {},
   "outputs": [],
   "source": []
  },
  {
   "cell_type": "code",
   "execution_count": null,
   "id": "99e7adb6",
   "metadata": {},
   "outputs": [],
   "source": []
  },
  {
   "cell_type": "code",
   "execution_count": null,
   "id": "4c8e4852",
   "metadata": {},
   "outputs": [],
   "source": []
  },
  {
   "cell_type": "code",
   "execution_count": null,
   "id": "ff511e03",
   "metadata": {},
   "outputs": [],
   "source": []
  },
  {
   "cell_type": "code",
   "execution_count": null,
   "id": "6b68e87f",
   "metadata": {},
   "outputs": [],
   "source": []
  },
  {
   "cell_type": "code",
   "execution_count": null,
   "id": "6919276f",
   "metadata": {},
   "outputs": [],
   "source": []
  },
  {
   "cell_type": "code",
   "execution_count": null,
   "id": "cd14a02f",
   "metadata": {},
   "outputs": [],
   "source": []
  },
  {
   "cell_type": "code",
   "execution_count": null,
   "id": "edf3dfb9",
   "metadata": {},
   "outputs": [],
   "source": []
  },
  {
   "cell_type": "code",
   "execution_count": null,
   "id": "cefddf17",
   "metadata": {},
   "outputs": [],
   "source": []
  },
  {
   "cell_type": "code",
   "execution_count": null,
   "id": "e9c71bee",
   "metadata": {},
   "outputs": [],
   "source": []
  },
  {
   "cell_type": "code",
   "execution_count": null,
   "id": "217d7e9a",
   "metadata": {},
   "outputs": [],
   "source": []
  },
  {
   "cell_type": "code",
   "execution_count": null,
   "id": "191b53a7",
   "metadata": {},
   "outputs": [],
   "source": []
  },
  {
   "cell_type": "code",
   "execution_count": null,
   "id": "912a6993",
   "metadata": {},
   "outputs": [],
   "source": []
  },
  {
   "cell_type": "code",
   "execution_count": null,
   "id": "fe74f905",
   "metadata": {},
   "outputs": [],
   "source": []
  },
  {
   "cell_type": "code",
   "execution_count": null,
   "id": "67303321",
   "metadata": {},
   "outputs": [],
   "source": []
  },
  {
   "cell_type": "code",
   "execution_count": null,
   "id": "93948be8",
   "metadata": {},
   "outputs": [],
   "source": []
  },
  {
   "cell_type": "code",
   "execution_count": null,
   "id": "9374e83e",
   "metadata": {},
   "outputs": [],
   "source": []
  },
  {
   "cell_type": "code",
   "execution_count": null,
   "id": "72d9979f",
   "metadata": {},
   "outputs": [],
   "source": []
  },
  {
   "cell_type": "code",
   "execution_count": null,
   "id": "4372fb3f",
   "metadata": {},
   "outputs": [],
   "source": []
  },
  {
   "cell_type": "code",
   "execution_count": null,
   "id": "9cc76b00",
   "metadata": {},
   "outputs": [],
   "source": []
  },
  {
   "cell_type": "code",
   "execution_count": null,
   "id": "9de5c24b",
   "metadata": {},
   "outputs": [],
   "source": [
    "1"
   ]
  },
  {
   "cell_type": "code",
   "execution_count": null,
   "id": "f66dffc1",
   "metadata": {},
   "outputs": [],
   "source": []
  },
  {
   "cell_type": "code",
   "execution_count": null,
   "id": "cc053245",
   "metadata": {},
   "outputs": [],
   "source": []
  },
  {
   "cell_type": "code",
   "execution_count": null,
   "id": "7e38084a",
   "metadata": {},
   "outputs": [],
   "source": []
  },
  {
   "cell_type": "code",
   "execution_count": null,
   "id": "7e662430",
   "metadata": {},
   "outputs": [],
   "source": []
  },
  {
   "cell_type": "code",
   "execution_count": null,
   "id": "3ef87aa4",
   "metadata": {},
   "outputs": [],
   "source": []
  },
  {
   "cell_type": "code",
   "execution_count": null,
   "id": "9eb66856",
   "metadata": {},
   "outputs": [],
   "source": []
  },
  {
   "cell_type": "code",
   "execution_count": null,
   "id": "c238bf5b",
   "metadata": {},
   "outputs": [],
   "source": []
  },
  {
   "cell_type": "code",
   "execution_count": null,
   "id": "59879809",
   "metadata": {},
   "outputs": [],
   "source": []
  },
  {
   "cell_type": "code",
   "execution_count": null,
   "id": "25655c00",
   "metadata": {},
   "outputs": [],
   "source": []
  },
  {
   "cell_type": "code",
   "execution_count": null,
   "id": "a79e9b39",
   "metadata": {},
   "outputs": [],
   "source": []
  },
  {
   "cell_type": "code",
   "execution_count": null,
   "id": "816ae25b",
   "metadata": {},
   "outputs": [],
   "source": []
  },
  {
   "cell_type": "code",
   "execution_count": null,
   "id": "611251fc",
   "metadata": {},
   "outputs": [],
   "source": []
  },
  {
   "cell_type": "code",
   "execution_count": null,
   "id": "29925200",
   "metadata": {},
   "outputs": [],
   "source": []
  },
  {
   "cell_type": "code",
   "execution_count": null,
   "id": "caad5ca2",
   "metadata": {},
   "outputs": [],
   "source": []
  },
  {
   "cell_type": "code",
   "execution_count": null,
   "id": "3a0edfba",
   "metadata": {},
   "outputs": [],
   "source": []
  },
  {
   "cell_type": "code",
   "execution_count": null,
   "id": "eb434b45",
   "metadata": {},
   "outputs": [],
   "source": []
  },
  {
   "cell_type": "code",
   "execution_count": null,
   "id": "abd2266e",
   "metadata": {},
   "outputs": [],
   "source": []
  }
 ],
 "metadata": {
  "kernelspec": {
   "display_name": "base",
   "language": "python",
   "name": "python3"
  },
  "language_info": {
   "codemirror_mode": {
    "name": "ipython",
    "version": 3
   },
   "file_extension": ".py",
   "mimetype": "text/x-python",
   "name": "python",
   "nbconvert_exporter": "python",
   "pygments_lexer": "ipython3",
   "version": "3.12.8"
  }
 },
 "nbformat": 4,
 "nbformat_minor": 5
}
