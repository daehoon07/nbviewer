{
 "cells": [
  {
   "cell_type": "markdown",
   "metadata": {},
   "source": [
    "Iterable 자료형"
   ]
  },
  {
   "cell_type": "code",
   "execution_count": 149,
   "metadata": {},
   "outputs": [
    {
     "name": "stdout",
     "output_type": "stream",
     "text": [
      "0\n",
      "1\n",
      "2\n",
      "3\n",
      "4\n"
     ]
    }
   ],
   "source": [
    "x_list = [0,1,2,3,4]\n",
    "print(x_list[0])\n",
    "print(x_list[1])\n",
    "print(x_list[2])\n",
    "print(x_list[3])\n",
    "print(x_list[4])\n"
   ]
  },
  {
   "cell_type": "code",
   "execution_count": null,
   "metadata": {},
   "outputs": [
    {
     "name": "stdout",
     "output_type": "stream",
     "text": [
      "4\n",
      "3\n",
      "2\n",
      "1\n",
      "0\n"
     ]
    }
   ],
   "source": [
    "x_list = [0, 1, 2, 3, 4]  \n",
    "print(x_list[-1])\n",
    "print(x_list[-2])\n",
    "print(x_list[-3])\n",
    "print(x_list[-4])\n",
    "print(x_list[-5])"
   ]
  },
  {
   "cell_type": "code",
   "execution_count": 151,
   "metadata": {},
   "outputs": [
    {
     "name": "stdout",
     "output_type": "stream",
     "text": [
      "list index out of range\n"
     ]
    }
   ],
   "source": [
    "try:\n",
    "     print(x_list[5])\n",
    "except IndexError as e:\n",
    "     print(e)"
   ]
  },
  {
   "cell_type": "code",
   "execution_count": 152,
   "metadata": {},
   "outputs": [
    {
     "name": "stdout",
     "output_type": "stream",
     "text": [
      "x_list = [1, 2, 3, 4, 5]\t=> x_list[0] = 1\n",
      "x_tuple = (1, 2, 3, 4, 5)\t=> x_tuple[-1] = 5\n"
     ]
    }
   ],
   "source": [
    "x_list = [1, 2, 3, 4, 5]\n",
    "x_tuple = (1, 2, 3, 4, 5)\n",
    "print(f'{x_list = }\\t=> {x_list[0] = }')\n",
    "print(f'{x_tuple = }\\t=> {x_tuple[-1] = }')"
   ]
  },
  {
   "cell_type": "code",
   "execution_count": 153,
   "metadata": {},
   "outputs": [
    {
     "name": "stdout",
     "output_type": "stream",
     "text": [
      "x_dict = {'name': ['김홍익', '이파이'], 'id': [12345, 67890]} \t=> x_dict[\"name\"][0] = '김홍익'\n",
      "x_str = 'Hello World!' \t\t=> x_str[3] = 'l'\n"
     ]
    }
   ],
   "source": [
    "x_dict = {'name': ['김홍익', '이파이'], 'id' : [12345,67890]}\n",
    "print(f'{x_dict = } \\t=> {x_dict[\"name\"][0] = }')\n",
    "print(f'{x_str = } \\t\\t=> {x_str[3] = }')"
   ]
  },
  {
   "cell_type": "code",
   "execution_count": 154,
   "metadata": {},
   "outputs": [
    {
     "name": "stdout",
     "output_type": "stream",
     "text": [
      "x_str = 'Hellod World!' \t\t=> x_str[0] = 'H'\n",
      "x_str = 'Hellod World!' \t\t=> x_str[3] = 'l'\n"
     ]
    }
   ],
   "source": [
    "x_str = 'Hellod World!'\n",
    "print(f'{x_str = } \\t\\t=> {x_str[0] = }')\n",
    "print(f'{x_str = } \\t\\t=> {x_str[3] = }')"
   ]
  },
  {
   "cell_type": "code",
   "execution_count": 155,
   "metadata": {},
   "outputs": [
    {
     "name": "stdout",
     "output_type": "stream",
     "text": [
      "[1, 2]\n",
      "[1, 2, 3, 4]\n",
      "[0, 1, 2]\n",
      "[0, 1, 2, 3, 4]\n"
     ]
    }
   ],
   "source": [
    "x_list = [0, 1, 2, 3, 4]\n",
    "print(x_list[1:3])\n",
    "print(x_list[1:])\n",
    "print(x_list[:3])\n",
    "print(x_list[:])"
   ]
  },
  {
   "cell_type": "code",
   "execution_count": 156,
   "metadata": {},
   "outputs": [
    {
     "name": "stdout",
     "output_type": "stream",
     "text": [
      "[1, 2, 3, 4]\n"
     ]
    }
   ],
   "source": [
    "try:\n",
    "    print(x_list[1:10])\n",
    "except IndexError as e:\n",
    "    print(e)"
   ]
  },
  {
   "cell_type": "code",
   "execution_count": 157,
   "metadata": {},
   "outputs": [
    {
     "name": "stdout",
     "output_type": "stream",
     "text": [
      "x_list = [1, 2, 3, 4, 5] \t=> x_list[0:3] = [1, 2, 3]\n",
      "x_tuple = (1, 2, 3, 4, 5) \t=> x_tuple[-1:-4:-1] = (5, 4, 3)\n"
     ]
    }
   ],
   "source": [
    "x_list = [1, 2, 3, 4, 5]\n",
    "x_tuple = (1, 2, 3, 4, 5)\n",
    "print(f'{x_list = } \\t=> {x_list[0:3] = }')\n",
    "print(f'{x_tuple = } \\t=> {x_tuple[-1:-4:-1] = }')"
   ]
  },
  {
   "cell_type": "code",
   "execution_count": 158,
   "metadata": {},
   "outputs": [
    {
     "name": "stdout",
     "output_type": "stream",
     "text": [
      "x_dict = {'name': ['김홍익', '이파이'], 'id': [12345, 67890]} \t=> x_dict[\"name\"][0:1] = ['김홍익']\n"
     ]
    }
   ],
   "source": [
    "x_dict = {'name' : ['김홍익' , '이파이'], 'id':[12345, 67890]}\n",
    "print(f'{x_dict = } \\t=> {x_dict[\"name\"][0:1] = }')\n"
   ]
  },
  {
   "cell_type": "code",
   "execution_count": 159,
   "metadata": {},
   "outputs": [
    {
     "name": "stdout",
     "output_type": "stream",
     "text": [
      "x_str = 'Hello World!' \t\t=> x_str[0:3] = 'Hel'\n",
      "x_str = 'Hello World!' \t\t=> x_str[-2:-10:-2] = 'drWo'\n"
     ]
    }
   ],
   "source": [
    "x_str = 'Hello World!'\n",
    "print(f'{x_str = } \\t\\t=> {x_str[0:3] = }')\n",
    "print(f'{x_str = } \\t\\t=> {x_str[-2:-10:-2] = }')"
   ]
  },
  {
   "cell_type": "code",
   "execution_count": 160,
   "metadata": {},
   "outputs": [
    {
     "name": "stdout",
     "output_type": "stream",
     "text": [
      "x = (1, 2, 3) \t=> id(x) = 2073778781312\n",
      "y = (1, 2, 3) \t=> id(y) = 2073778781312\n"
     ]
    }
   ],
   "source": [
    "x = (1,2,3)\n",
    "y = x\n",
    "print(f'{x = } \\t=> {id(x) = }')\n",
    "print(f'{y = } \\t=> {id(y) = }')"
   ]
  },
  {
   "cell_type": "code",
   "execution_count": 161,
   "metadata": {},
   "outputs": [
    {
     "name": "stdout",
     "output_type": "stream",
     "text": [
      "x = (1, 2, 3) \t=> id(x) = 2073778781312\n",
      "y = (1, 20, 3) \t=> id(y) = 2073777683072\n"
     ]
    }
   ],
   "source": [
    "y = (1,20,3)\n",
    "print(f'{x = } \\t=> {id(x) = }')\n",
    "print(f'{y = } \\t=> {id(y) = }')\n"
   ]
  },
  {
   "cell_type": "code",
   "execution_count": 162,
   "metadata": {},
   "outputs": [
    {
     "name": "stdout",
     "output_type": "stream",
     "text": [
      "x = [1, 2, 3] \t=>id(x) = 2073771741824\n",
      "y = [1, 2, 3] \t=>id(y) = 2073771741824\n"
     ]
    }
   ],
   "source": [
    "x = [1,2,3]\n",
    "y = x\n",
    "print(f'{x = } \\t=>{id(x) = }')\n",
    "print(f'{y = } \\t=>{id(y) = }')\n"
   ]
  },
  {
   "cell_type": "code",
   "execution_count": 163,
   "metadata": {},
   "outputs": [
    {
     "name": "stdout",
     "output_type": "stream",
     "text": [
      "x = [1, 20, 3] \t=> id(x) = 2073771741824\n",
      "y = [1, 20, 3] \t=> id(y) = 2073771741824\n"
     ]
    }
   ],
   "source": [
    "y[1] = 20\n",
    "print(f'{x = } \\t=> {id(x) = }')\n",
    "print(f'{y = } \\t=> {id(y) = }')\n"
   ]
  },
  {
   "cell_type": "code",
   "execution_count": 164,
   "metadata": {},
   "outputs": [
    {
     "name": "stdout",
     "output_type": "stream",
     "text": [
      "x = [1, 2, 3] \t=> id(x) = 2073770476160\n",
      "y = [1, 2, 3] \t=> id(y) = 2073777768320\n"
     ]
    }
   ],
   "source": [
    "x = [1,2,3]\n",
    "y = x.copy()\n",
    "print(f'{x = } \\t=> {id(x) = }')\n",
    "print(f'{y = } \\t=> {id(y) = }')\n"
   ]
  },
  {
   "cell_type": "code",
   "execution_count": 165,
   "metadata": {},
   "outputs": [
    {
     "name": "stdout",
     "output_type": "stream",
     "text": [
      "x = [1, 2, 3] \t=> id(x) = 2073770476160\n",
      "y = [1, 20, 3] \t=> id(y) = 2073777768320\n"
     ]
    }
   ],
   "source": [
    "y[1] = 20\n",
    "print(f'{x = } \\t=> {id(x) = }')\n",
    "print(f'{y = } \\t=> {id(y) = }')\n"
   ]
  },
  {
   "cell_type": "code",
   "execution_count": 166,
   "metadata": {},
   "outputs": [
    {
     "name": "stdout",
     "output_type": "stream",
     "text": [
      "x_list는 <class 'list'>이고, x_tuple은 <class 'tuple'>이다.\n"
     ]
    }
   ],
   "source": [
    "x_list = [1, 2, 3, 4, 5]\n",
    "x_tuple = (1, 2, 3, 4, 5)\n",
    "print(f'x_list는 {type(x_list)}이고, x_tuple은 {type(x_tuple)}이다.')"
   ]
  },
  {
   "cell_type": "code",
   "execution_count": 167,
   "metadata": {},
   "outputs": [
    {
     "name": "stdout",
     "output_type": "stream",
     "text": [
      "Befoe: x_list = [1, 2, 3, 4, 5]\n",
      "After : x_list = [1, '2', 3, 5]\n"
     ]
    }
   ],
   "source": [
    "print(f'Befoe: {x_list = }')\n",
    "try:\n",
    "    x_list[1] = '2'\n",
    "    del x_list[3]\n",
    "except TypeError as e:\n",
    "      print(f'Error : {e}')\n",
    "print(f'After : {x_list = }')\n"
   ]
  },
  {
   "cell_type": "code",
   "execution_count": 168,
   "metadata": {},
   "outputs": [
    {
     "name": "stdout",
     "output_type": "stream",
     "text": [
      "Befoe: x_tuple = (1, 2, 3, 4, 5)\n",
      "Error : 'tuple' object does not support item assignment\n",
      "After : x_tuple = (1, 2, 3, 4, 5)\n"
     ]
    }
   ],
   "source": [
    "print(f'Befoe: {x_tuple = }')\n",
    "try:\n",
    "   x_tuple[1] = '2'\n",
    "except TypeError as e:\n",
    "    print(f'Error : {e}')\n",
    "print(f'After : {x_tuple = }')"
   ]
  },
  {
   "cell_type": "code",
   "execution_count": 170,
   "metadata": {},
   "outputs": [
    {
     "name": "stdout",
     "output_type": "stream",
     "text": [
      "len(x_list) = 5\n",
      "sum(x_list) = 10\n",
      "min(x_list) = 0\n",
      "max(x_list) = 4\n",
      "sorted(x_list) = [0, 1, 2, 3, 4]\n",
      "sorted(x_list, reverse=True) = [4, 3, 2, 1, 0]\n",
      "all(x_list) = False\n",
      "any(x_list) = True\n"
     ]
    }
   ],
   "source": [
    "x_list = [0, 1, 2, 3, 4]\n",
    "print(f'{len(x_list) = }')\n",
    "print(f'{sum(x_list) = }')\n",
    "print(f'{min(x_list) = }')\n",
    "print(f'{max(x_list) = }')\n",
    "print(f'{sorted(x_list) = }')\n",
    "print(f'{sorted(x_list, reverse=True) = }')\n",
    "print(f'{all(x_list) = }')\n",
    "print(f'{any(x_list) = }')\n"
   ]
  },
  {
   "cell_type": "code",
   "execution_count": 172,
   "metadata": {},
   "outputs": [
    {
     "name": "stdout",
     "output_type": "stream",
     "text": [
      "['__add__', '__class__', '__class_getitem__', '__contains__', '__delattr__', '__delitem__', '__dir__', '__doc__', '__eq__', '__format__', '__ge__', '__getattribute__', '__getitem__', '__getstate__', '__gt__', '__hash__', '__iadd__', '__imul__', '__init__', '__init_subclass__', '__iter__', '__le__', '__len__', '__lt__', '__mul__', '__ne__', '__new__', '__reduce__', '__reduce_ex__', '__repr__', '__reversed__', '__rmul__', '__setattr__', '__setitem__', '__sizeof__', '__str__', '__subclasshook__', 'append', 'clear', 'copy', 'count', 'extend', 'index', 'insert', 'pop', 'remove', 'reverse', 'sort']\n",
      "================================================================================\n",
      "['__add__', '__class__', '__class_getitem__', '__contains__', '__delattr__', '__dir__', '__doc__', '__eq__', '__format__', '__ge__', '__getattribute__', '__getitem__', '__getnewargs__', '__getstate__', '__gt__', '__hash__', '__init__', '__init_subclass__', '__iter__', '__le__', '__len__', '__lt__', '__mul__', '__ne__', '__new__', '__reduce__', '__reduce_ex__', '__repr__', '__rmul__', '__setattr__', '__sizeof__', '__str__', '__subclasshook__', 'count', 'index']\n"
     ]
    }
   ],
   "source": [
    "print(dir(x_list), end='\\n'+'='*80+'\\n')\n",
    "print(dir(x_tuple))"
   ]
  },
  {
   "cell_type": "code",
   "execution_count": 7,
   "metadata": {},
   "outputs": [
    {
     "name": "stdout",
     "output_type": "stream",
     "text": [
      "x_list = [1, 2, 3, 4, 5, 2, 3, 2]\n",
      "x_lsit.count(2) = 3\n",
      "x_list.index(2) = 1\n"
     ]
    }
   ],
   "source": [
    "x_list = [1, 2, 3, 4, 5, 2, 3, 2]\n",
    "print(f'{x_list = }')\n",
    "print(f'{x_lsit.count(2) = }')\n",
    "print(f'{x_list.index(2) = }')\n"
   ]
  },
  {
   "cell_type": "code",
   "execution_count": 9,
   "metadata": {},
   "outputs": [
    {
     "name": "stdout",
     "output_type": "stream",
     "text": [
      "y_list = [1, 2, 3, 4, 5, 2, 3, 2]\n",
      "x_list is y_list = False\n",
      "id(x_list) = 2339543732544, id(y_list) = 2339543433472\n"
     ]
    }
   ],
   "source": [
    "y_list = x_list.copy()\n",
    "print(f'{y_list = }')\n",
    "print(f'{x_list is y_list = }')\n",
    "print(f'{id(x_list) = }, {id(y_list) = }')"
   ]
  },
  {
   "cell_type": "code",
   "execution_count": 10,
   "metadata": {},
   "outputs": [
    {
     "name": "stdout",
     "output_type": "stream",
     "text": [
      "x_list = [2, 3, 2, 5, 4, 3, 2, 1]\n"
     ]
    }
   ],
   "source": [
    "x_list.reverse()\n",
    "print(f'{x_list = }')\n"
   ]
  },
  {
   "cell_type": "code",
   "execution_count": 11,
   "metadata": {},
   "outputs": [
    {
     "name": "stdout",
     "output_type": "stream",
     "text": [
      "x_list = [1, 2, 2, 2, 3, 3, 4, 5]\n"
     ]
    }
   ],
   "source": [
    "x_list.sort()\n",
    "print(f'{x_list = }')"
   ]
  },
  {
   "cell_type": "code",
   "execution_count": 12,
   "metadata": {},
   "outputs": [
    {
     "name": "stdout",
     "output_type": "stream",
     "text": [
      "x_list = [1, 2, 2, 2, 3, 3, 4, 5, 6]\n"
     ]
    }
   ],
   "source": [
    "x_list.append(6)\n",
    "print(f'{x_list = }')"
   ]
  },
  {
   "cell_type": "code",
   "execution_count": 13,
   "metadata": {},
   "outputs": [
    {
     "name": "stdout",
     "output_type": "stream",
     "text": [
      "x_list = [1, 2, 2, 2, 3, 3, 4, 5, 6, 7, 8, 9]\n"
     ]
    }
   ],
   "source": [
    "x_list.extend([7,8,9])\n",
    "print(f'{x_list = }')\n"
   ]
  },
  {
   "cell_type": "code",
   "execution_count": 15,
   "metadata": {},
   "outputs": [
    {
     "name": "stdout",
     "output_type": "stream",
     "text": [
      "x_list = [1, 2, 2, 2, 3, 3, 4, 5, 6, 7, 8, 9, [10, 11, 12]]\n"
     ]
    }
   ],
   "source": [
    "x_list.append([10, 11, 12])\n",
    "print(f'{x_list = }')"
   ]
  },
  {
   "cell_type": "code",
   "execution_count": 16,
   "metadata": {},
   "outputs": [
    {
     "name": "stdout",
     "output_type": "stream",
     "text": [
      "x_list = [1, 2, 2, 3.5, 2, 3, 3, 4, 5, 6, 7, 8, 9, [10, 11, 12]]\n"
     ]
    }
   ],
   "source": [
    "x_list.insert(3, 3.5)\n",
    "print(f'{x_list = }')"
   ]
  },
  {
   "cell_type": "code",
   "execution_count": 17,
   "metadata": {},
   "outputs": [
    {
     "name": "stdout",
     "output_type": "stream",
     "text": [
      "x_list = [1, 2, 2, 2, 3, 3, 4, 5, 6, 7, 8, 9, [10, 11, 12]]\n"
     ]
    }
   ],
   "source": [
    "x_list.remove(3.5)\n",
    "print(f'{x_list = }')\n"
   ]
  },
  {
   "cell_type": "code",
   "execution_count": 20,
   "metadata": {},
   "outputs": [
    {
     "name": "stdout",
     "output_type": "stream",
     "text": [
      "x_list = [1, 2, 2, 2, 3, 3, 4, 5, 6, 7, 8]\n",
      "x_list = [1, 2, 2, 2, 3, 3, 4, 6, 7, 8]\n"
     ]
    }
   ],
   "source": [
    "x_list.pop()\n",
    "print(f'{x_list = }')\n",
    "x_list.pop(7)\n",
    "print(f'{x_list = }')"
   ]
  },
  {
   "cell_type": "code",
   "execution_count": 21,
   "metadata": {},
   "outputs": [
    {
     "name": "stdout",
     "output_type": "stream",
     "text": [
      "x_list = [2, 2, 2, 3, 3, 4, 6, 7, 8], x_pop = 1\n"
     ]
    }
   ],
   "source": [
    "x_pop = x_list.pop(0)\n",
    "print(f'{x_list = }, {x_pop = }')"
   ]
  },
  {
   "cell_type": "code",
   "execution_count": 22,
   "metadata": {},
   "outputs": [
    {
     "name": "stdout",
     "output_type": "stream",
     "text": [
      "x_list = []\n"
     ]
    }
   ],
   "source": [
    "x_list.clear()\n",
    "print(f'{x_list = }')"
   ]
  },
  {
   "cell_type": "code",
   "execution_count": 23,
   "metadata": {},
   "outputs": [
    {
     "name": "stdout",
     "output_type": "stream",
     "text": [
      "Error : name 'x_list' is not defined\n"
     ]
    }
   ],
   "source": [
    "del x_list\n",
    "try:\n",
    "    print(f'{x_list = }')\n",
    "except NameError as e:\n",
    "    print(f'Error : {e}')"
   ]
  },
  {
   "cell_type": "code",
   "execution_count": 28,
   "metadata": {},
   "outputs": [
    {
     "name": "stdout",
     "output_type": "stream",
     "text": [
      "Hello Python ! My name is Python. I am Python Developer .\n"
     ]
    }
   ],
   "source": [
    "string1 = \"Hello Python ! My name is Python. I am Python Developer .\"\n",
    "print(string1)\n"
   ]
  },
  {
   "cell_type": "code",
   "execution_count": 30,
   "metadata": {},
   "outputs": [
    {
     "name": "stdout",
     "output_type": "stream",
     "text": [
      "Hello Python! my name is Python. I am Python Developer.\n"
     ]
    }
   ],
   "source": [
    "string2 ='Hello Python! my name is Python. I am Python Developer.'\n",
    "print(string2)"
   ]
  },
  {
   "cell_type": "code",
   "execution_count": 34,
   "metadata": {},
   "outputs": [
    {
     "name": "stdout",
     "output_type": "stream",
     "text": [
      "Hello Python!\n",
      "My name is Python.\n",
      "I am a Python Developer.\n",
      "\n"
     ]
    }
   ],
   "source": [
    "string3=\"\"\"Hello Python!\n",
    "My name is Python.\n",
    "I am a Python Developer.\n",
    "\"\"\"\n",
    "print(string3)"
   ]
  },
  {
   "cell_type": "code",
   "execution_count": 36,
   "metadata": {},
   "outputs": [
    {
     "name": "stdout",
     "output_type": "stream",
     "text": [
      "Hello Python!\n",
      "My name is Python.\n",
      "I am a Python Developer.\n",
      "\n"
     ]
    }
   ],
   "source": [
    "string4='''Hello Python!\n",
    "My name is Python.\n",
    "I am a Python Developer.\n",
    "'''\n",
    "print(string4)"
   ]
  },
  {
   "cell_type": "code",
   "execution_count": 38,
   "metadata": {},
   "outputs": [
    {
     "name": "stdout",
     "output_type": "stream",
     "text": [
      "Hello \tPython! \n",
      "My \tname \tis \tPython. \n",
      "I \tam \ta \tPython \tDeveloper.\n"
     ]
    }
   ],
   "source": [
    "string = 'Hello \\tPython! \\nMy \\tname \\tis \\tPython. \\nI \\tam \\ta \\tPython \\tDeveloper.'\n",
    "print(string)"
   ]
  },
  {
   "cell_type": "code",
   "execution_count": 40,
   "metadata": {},
   "outputs": [
    {
     "name": "stdout",
     "output_type": "stream",
     "text": [
      "Hello \tPython! \n",
      "My \tname \tis \tPython. \n",
      "I \tam \ta \tPython \tDeveloper.\n"
     ]
    }
   ],
   "source": [
    "sring = 'Hello \\t\\\\Python\\\\! \\nMy \\tname \\tis \\t\\'Python\\'!. \\nI \\tam \\ta \\t\\\"Python\\\" \\tDeveloper.'\n",
    "print(string) "
   ]
  },
  {
   "cell_type": "code",
   "execution_count": 4,
   "metadata": {},
   "outputs": [
    {
     "name": "stdout",
     "output_type": "stream",
     "text": [
      "Hell0 \\t\\\\Python\\\\! \\nMy \\tname \\tis \\t\\'Python\\'!. \\nI \\tam \\t \\t\\\"Python\\\" \\Developer.\n"
     ]
    }
   ],
   "source": [
    "string_r = r'Hell0 \\t\\\\Python\\\\! \\nMy \\tname \\tis \\t\\'Python\\'!. \\nI \\tam \\t \\t\\\"Python\\\" \\Developer.'\n",
    "print(string_r)"
   ]
  },
  {
   "cell_type": "code",
   "execution_count": 5,
   "metadata": {},
   "outputs": [
    {
     "name": "stdout",
     "output_type": "stream",
     "text": [
      "Hello Python! My name is Python. I am a Python Developer\n"
     ]
    }
   ],
   "source": [
    "name ='Python'\n",
    "string_f = f'Hello {name}! My name is {name}. I am a {name} Developer'\n",
    "print(string_f)"
   ]
  },
  {
   "cell_type": "code",
   "execution_count": 9,
   "metadata": {},
   "outputs": [
    {
     "name": "stdout",
     "output_type": "stream",
     "text": [
      "\n",
      "==== 인덱싱(포인트) ====\n",
      "string[0]='h'\n",
      "string[3]='l'\n",
      "string[-1]='.'\n",
      "string[-3]='e'\n",
      "\n",
      "==== 슬라이싱(구간) ====\n",
      "string[0:5]='hello'\n",
      "string[6:12]='Python'\n",
      "string[:5]='hello'\n",
      "string[6:]='Python! My name is Python. I am a Python Developer.'\n",
      "string[6:-1]='Python! My name is Python. I am a Python Developer'\n",
      "string[6:-3]='Python! My name is Python. I am a Python Develop'\n",
      "\n",
      "==== 스텝(간격) ====\n",
      "- 인덱스 6부터 2칸씩 12까지\n",
      "string[6:12:2]='Pto'\n",
      "- 처음부터 끝까지 2칸씩\n",
      "string[::2]='hloPto!M aei yhn  maPto eeoe.'\n",
      "- 처음부터 끝까지 거꾸로 1칸씩\n",
      "string[::-1]='.repoleveD nohtyP a ma I .nohtyP si eman yM !nohtyP olleh'\n",
      "\n"
     ]
    }
   ],
   "source": [
    "string = \"hello Python! My name is Python. I am a Python Developer.\"\n",
    "print(f'''\n",
    "==== 인덱싱(포인트) ====\n",
    "{string[0]=}\n",
    "{string[3]=}\n",
    "{string[-1]=}\n",
    "{string[-3]=}\n",
    "\n",
    "==== 슬라이싱(구간) ====\n",
    "{string[0:5]=}\n",
    "{string[6:12]=}\n",
    "{string[:5]=}\n",
    "{string[6:]=}\n",
    "{string[6:-1]=}\n",
    "{string[6:-3]=}\n",
    "\n",
    "==== 스텝(간격) ====\n",
    "- 인덱스 6부터 2칸씩 12까지\n",
    "{string[6:12:2]=}\n",
    "- 처음부터 끝까지 2칸씩\n",
    "{string[::2]=}\n",
    "- 처음부터 끝까지 거꾸로 1칸씩\n",
    "{string[::-1]=}\n",
    "''')"
   ]
  },
  {
   "cell_type": "code",
   "execution_count": 10,
   "metadata": {},
   "outputs": [
    {
     "name": "stdout",
     "output_type": "stream",
     "text": [
      "Hello Python! My name is Python. I am a Python Developer.\n"
     ]
    }
   ],
   "source": [
    "string = \"Hello Python! \" + \"My name is Python. \" + \"I am a Python Developer.\"\n",
    "print(string)"
   ]
  },
  {
   "cell_type": "code",
   "execution_count": 11,
   "metadata": {},
   "outputs": [
    {
     "name": "stdout",
     "output_type": "stream",
     "text": [
      "Hello Python! Hello Python! Hello Python! \n"
     ]
    }
   ],
   "source": [
    "string = \"Hello Python! \" * 3\n",
    "print(string)"
   ]
  },
  {
   "cell_type": "code",
   "execution_count": 13,
   "metadata": {},
   "outputs": [
    {
     "name": "stdout",
     "output_type": "stream",
     "text": [
      "23\n",
      "True\n",
      "True\n"
     ]
    }
   ],
   "source": [
    "string = \"2024_바이오헬스 교과목 목록.xlist\"\n",
    "print(len(string))\n",
    "print('2024' in string)\n",
    "print('csv' not in string)"
   ]
  },
  {
   "cell_type": "code",
   "execution_count": 16,
   "metadata": {},
   "outputs": [
    {
     "name": "stdout",
     "output_type": "stream",
     "text": [
      "my_dict1 = {}\n",
      "my_dict2 = {}\n"
     ]
    }
   ],
   "source": [
    "my_dict1 = dict()\n",
    "my_dict2 = dict()\n",
    "print(f'{my_dict1 = }\\n{my_dict2 = }')"
   ]
  },
  {
   "cell_type": "code",
   "execution_count": 17,
   "metadata": {},
   "outputs": [
    {
     "name": "stdout",
     "output_type": "stream",
     "text": [
      "my_dict1 = {'name': 'Max', 'age': 28, 'city': 'New York'}\n",
      "my_dict2 = {'name': 'Max', 'age': 28, 'city': 'New York'}\n",
      "my_dict3 = {'name': 'Max', 'age': 28, 'city': 'New York'}\n"
     ]
    }
   ],
   "source": [
    "my_dict1 = {'name': 'Max' , 'age': 28, 'city': 'New York'}\n",
    "my_dict2 = dict(name='Max', age=28, city='New York')\n",
    "my_dict3 = dict([('name', 'Max'), ('age', 28), ('city','New York')])\n",
    "print(f'{my_dict1 = }\\n{my_dict2 = }\\n{my_dict3 = }')"
   ]
  },
  {
   "cell_type": "code",
   "execution_count": 20,
   "metadata": {},
   "outputs": [
    {
     "name": "stdout",
     "output_type": "stream",
     "text": [
      "my_dict4 = {'name': 'Max', 'age': 28, 'city': 'New York'}\n"
     ]
    }
   ],
   "source": [
    "person_keys = ['name', 'age', 'city']\n",
    "person_values = ['Max', 28, 'New York']\n",
    "my_dict4 = dict(zip(person_keys, person_values))\n",
    "print(f'{my_dict4 = }')\n"
   ]
  },
  {
   "cell_type": "code",
   "execution_count": 22,
   "metadata": {},
   "outputs": [
    {
     "name": "stdout",
     "output_type": "stream",
     "text": [
      "my_dict_dict = {'A': {'name': 'Max', 'age': 28, 'city': 'New York'}, 'B': {'name': 'Mary', 'age': 22, 'city': 'Seoul'}}\n"
     ]
    }
   ],
   "source": [
    "my_dict_dict = {'A': {'name': 'Max', 'age': 28, 'city': 'New York'},\n",
    "                'B': {'name': 'Mary', 'age': 22, 'city': 'Seoul'}}\n",
    "print(f'{my_dict_dict = }')"
   ]
  },
  {
   "cell_type": "code",
   "execution_count": 23,
   "metadata": {},
   "outputs": [
    {
     "name": "stdout",
     "output_type": "stream",
     "text": [
      "{'A': {'age': 28, 'city': 'New York', 'name': 'Max'},\n",
      " 'B': {'age': 22, 'city': 'Seoul', 'name': 'Mary'}}\n"
     ]
    }
   ],
   "source": [
    "from pprint import pprint\n",
    "pprint(my_dict_dict)"
   ]
  },
  {
   "cell_type": "code",
   "execution_count": 24,
   "metadata": {},
   "outputs": [
    {
     "name": "stdout",
     "output_type": "stream",
     "text": [
      "my_dict1 = {'name': 'Max', 'age': 28, 'city': 'New York'}\n",
      "type(my_dict1) = <class 'dict'>\n",
      "len(my_dict1) = 3\n",
      "True\n",
      "False\n"
     ]
    }
   ],
   "source": [
    "print(f'{my_dict1 = }')\n",
    "print(f'{type(my_dict1) = }')\n",
    "print(f'{len(my_dict1) = }')\n",
    "print(\"name\" in my_dict1)\n",
    "print(\"Max\" in my_dict1)\n"
   ]
  },
  {
   "cell_type": "code",
   "execution_count": 26,
   "metadata": {},
   "outputs": [
    {
     "name": "stdout",
     "output_type": "stream",
     "text": [
      "my_dict1[\"name\"] = 'Max'\n",
      "KeyError: 'name2'\n"
     ]
    }
   ],
   "source": [
    "print(f'{my_dict1[\"name\"] = }')\n",
    "\n",
    "try:\n",
    "          print(f'{my_dict1[\"name2\"] = }')\n",
    "except KeyError as e:\n",
    "        print(f'KeyError: {e}')"
   ]
  },
  {
   "cell_type": "code",
   "execution_count": 27,
   "metadata": {},
   "outputs": [
    {
     "name": "stdout",
     "output_type": "stream",
     "text": [
      "my_dict_dict[\"A\"][\"name\"] = 'Max'\n"
     ]
    }
   ],
   "source": [
    "print(f'{my_dict_dict[\"A\"][\"name\"] = }')\n"
   ]
  },
  {
   "cell_type": "code",
   "execution_count": 28,
   "metadata": {},
   "outputs": [
    {
     "name": "stdout",
     "output_type": "stream",
     "text": [
      "my_dict1.get(\"name\") = 'Max'\n",
      "my_dict1.get(\"name2\") = None\n",
      "my_dict1.get(\"name2\", \"replacement\") = 'replacement'\n"
     ]
    }
   ],
   "source": [
    "print(f'{my_dict1.get(\"name\") = }')\n",
    "print(f'{my_dict1.get(\"name2\") = }')\n",
    "print(f'{my_dict1.get(\"name2\", \"replacement\") = }')"
   ]
  },
  {
   "cell_type": "code",
   "execution_count": 29,
   "metadata": {},
   "outputs": [
    {
     "name": "stdout",
     "output_type": "stream",
     "text": [
      "my_dict1.keys() = dict_keys(['name', 'age', 'city'])\n",
      "my_dict1.values() = dict_values(['Max', 28, 'New York'])\n",
      "my_dict1.items() = dict_items([('name', 'Max'), ('age', 28), ('city', 'New York')])\n"
     ]
    }
   ],
   "source": [
    "print(f'{my_dict1.keys() = }')\n",
    "print(f'{my_dict1.values() = }')\n",
    "print(f'{my_dict1.items() = }')"
   ]
  },
  {
   "cell_type": "code",
   "execution_count": 35,
   "metadata": {},
   "outputs": [
    {
     "name": "stdout",
     "output_type": "stream",
     "text": [
      "my_dict1 = {'name': 'Max', 'age': 28, 'city': 'New York'}\n",
      "my_dict1 = {'name': 'Max', 'age': 28, 'city': 'New York', 'id': 123}\n"
     ]
    }
   ],
   "source": [
    "print(f'{my_dict1 = }')\n",
    "my_dict1[\"id\"] = 123\n",
    "print(f'{my_dict1 = }')\n"
   ]
  },
  {
   "cell_type": "code",
   "execution_count": 36,
   "metadata": {},
   "outputs": [
    {
     "name": "stdout",
     "output_type": "stream",
     "text": [
      "my_dict1 = {'name': 'Max', 'age': 28, 'city': 'New York'}\n"
     ]
    }
   ],
   "source": [
    "del my_dict1[\"id\"]\n",
    "print(f'{my_dict1 = }')"
   ]
  },
  {
   "cell_type": "code",
   "execution_count": 37,
   "metadata": {},
   "outputs": [
    {
     "name": "stdout",
     "output_type": "stream",
     "text": [
      "my_dict1 = {'name': 'Max', 'age': 28, 'city': 'New York'}\n"
     ]
    }
   ],
   "source": [
    "my_dict[\"age\"] = 30 \n",
    "print(f'{my_dict1 = }')"
   ]
  },
  {
   "cell_type": "code",
   "execution_count": 41,
   "metadata": {},
   "outputs": [
    {
     "name": "stdout",
     "output_type": "stream",
     "text": [
      "my_dict1 = {'name': 'Max', 'age': 40, 'city': 'New York', 'id': 123, 'occupation': 'Data Scientist'}\n"
     ]
    }
   ],
   "source": [
    "my_dict1.update(age = 40, id = 123, occupation = \"Data Scientist\")\n",
    "print(f'{my_dict1 = }')"
   ]
  },
  {
   "cell_type": "code",
   "execution_count": 42,
   "metadata": {},
   "outputs": [
    {
     "name": "stdout",
     "output_type": "stream",
     "text": [
      "my_dict1 = {'name': 'Max', 'age': 50, 'city': 'New York', 'id': 123, 'occupation': 'Data Scientist', 'affiliation': 'Hongik Univ.'}\n"
     ]
    }
   ],
   "source": [
    "my_dict_more = {\"age\": 50, \"affiliation\": \"Hongik Univ.\"}\n",
    "my_dict1.update(my_dict_more)\n",
    "print(f'{my_dict1 = }')"
   ]
  },
  {
   "cell_type": "code",
   "execution_count": 44,
   "metadata": {},
   "outputs": [
    {
     "name": "stdout",
     "output_type": "stream",
     "text": [
      "my_dict1 = {'name': 'Max', 'age': 50, 'city': 'New York', 'id': 123, 'occupation': 'Data Scientist'}\n"
     ]
    }
   ],
   "source": [
    "my_dict1.pop(\"affiliation\")\n",
    "print(f'{my_dict1 = }')"
   ]
  },
  {
   "cell_type": "code",
   "execution_count": 46,
   "metadata": {},
   "outputs": [
    {
     "name": "stdout",
     "output_type": "stream",
     "text": [
      "my_dict1 = {'name': 'Max', 'age': 50, 'city': 'New York', 'id': 123}\n",
      "occupation = 'Data Scientist'\n"
     ]
    }
   ],
   "source": [
    "occupation = my_dict1.pop(\"occupation\")\n",
    "print(f'{my_dict1 = }\\n{occupation = }')"
   ]
  },
  {
   "cell_type": "code",
   "execution_count": 47,
   "metadata": {},
   "outputs": [
    {
     "name": "stdout",
     "output_type": "stream",
     "text": [
      "KeyError: 'occupation'\n",
      "occupation = 'unknown'\n"
     ]
    }
   ],
   "source": [
    "try: \n",
    "    my_dict1.pop(\"occupation\")\n",
    "except KeyError as e: \n",
    "    print(f'KeyError: {e}')\n",
    "    occupation = my_dict1.pop(\"occupation\", \"unknown\")\n",
    "    print(f'{occupation = }')"
   ]
  },
  {
   "cell_type": "code",
   "execution_count": 48,
   "metadata": {},
   "outputs": [
    {
     "name": "stdout",
     "output_type": "stream",
     "text": [
      "my_dict1 = {'name': 'Max', 'age': 50, 'city': 'New York', 'id': 123}\n",
      "my_dict1 = {'name': 'Max', 'age': 50, 'city': 'New York'}\n",
      "last = ('id', 123)\n"
     ]
    }
   ],
   "source": [
    "print(f'{my_dict1 = }')\n",
    "last = my_dict1.popitem()\n",
    "print(f'{my_dict1 = }\\n{last = }')\n",
    "last = (f'{my_dict1 = }\\n{last = }')"
   ]
  },
  {
   "cell_type": "code",
   "execution_count": 49,
   "metadata": {},
   "outputs": [
    {
     "name": "stdout",
     "output_type": "stream",
     "text": [
      "my_dict1 = {}\n"
     ]
    }
   ],
   "source": [
    "my_dict1.clear()\n",
    "print(f'{my_dict1 = }')"
   ]
  },
  {
   "cell_type": "code",
   "execution_count": 1,
   "metadata": {},
   "outputs": [
    {
     "name": "stdout",
     "output_type": "stream",
     "text": [
      "여기서부터는 응용입니다.\n"
     ]
    }
   ],
   "source": [
    "print('여기서부터는 응용입니다.')"
   ]
  },
  {
   "cell_type": "code",
   "execution_count": 2,
   "metadata": {},
   "outputs": [
    {
     "name": "stdout",
     "output_type": "stream",
     "text": [
      "x = '선봉'\t=> id(x) = 1542505864432\n",
      "y = '산업'\t=> id(y) = 1542505868272\n",
      "z = '데이터'\t=> id(z) = 1542507078608\n"
     ]
    }
   ],
   "source": [
    "#immutable객체의 assignment 응용용\n",
    "x = '선봉'\n",
    "y = '산업'\n",
    "z = '데이터'\n",
    "print(f'{x = }\\t=> {id(x) = }')\n",
    "print(f'{y = }\\t=> {id(y) = }')\n",
    "print(f'{z = }\\t=> {id(z) = }')"
   ]
  },
  {
   "cell_type": "code",
   "execution_count": 3,
   "metadata": {},
   "outputs": [
    {
     "name": "stdout",
     "output_type": "stream",
     "text": [
      "x = ['봄', '여름', '가을', '겨울']\t=> id(x) = 1542511164352\n",
      "y = ['봄', '여름', '가을', '겨울']\t=> id(y) = 1542511164352\n"
     ]
    }
   ],
   "source": [
    "#mutable객체의 얕은 복사\n",
    "x = ['봄','여름','가을','겨울']\n",
    "y = x\n",
    "print(f'{x = }\\t=> {id(x) = }')\n",
    "print(f'{y = }\\t=> {id(y) = }')\n"
   ]
  },
  {
   "cell_type": "code",
   "execution_count": 12,
   "metadata": {},
   "outputs": [
    {
     "name": "stdout",
     "output_type": "stream",
     "text": [
      "x = ['봄', '여름', '가을', '겨울'] \t=> id(x) = 1542516364352\n",
      "y = ['봄', '여름', '가을', '겨울'] \t=> id(y) = 1542516365056\n",
      "x = ['봄', '여름', '가을', '겨울'] \t=> id(x) = 1542516364352\n",
      "y = ['봄', '초여름', '가을', '겨울'] \t=> id(y) = 1542516365056\n"
     ]
    }
   ],
   "source": [
    "#mutable객체의 깊은 복사 \n",
    "x = ['봄','여름','가을','겨울']\n",
    "y = x.copy()\n",
    "print(f'{x = } \\t=> {id(x) = }')\n",
    "print(f'{y = } \\t=> {id(y) = }')\n",
    "y[1] = '초여름'\n",
    "print(f'{x = } \\t=> {id(x) = }')\n",
    "print(f'{y = } \\t=> {id(y) = }')"
   ]
  },
  {
   "cell_type": "code",
   "execution_count": 22,
   "metadata": {},
   "outputs": [
    {
     "name": "stdout",
     "output_type": "stream",
     "text": [
      "x_list.count(4) = 3\n",
      "x_list = [3, 45, 23, 43, 5, 4, 23, 42, 3, 4, 74, 6, 5, 4, 3]\n",
      "x_list = [3, 45, 23, 43, 5, 4, 23, 42, 3, 4, 74, 6, 5, 4]\n",
      "x_list = [3, 45, 23, 47, 43, 5, 4, 23, 42, 3, 4, 74, 6, 5, 4]\n",
      "x_list = [3, 45, 23, 47, 43, 5, 23, 42, 3, 4, 74, 6, 5, 4], x_pop = 4\n",
      "x_list = []\n",
      "Error : name 'x_list' is not defined\n"
     ]
    }
   ],
   "source": [
    "#객체 메서드를 이용한 응용\n",
    "x_list = [3,4,5,6,74,4,3,42,23,4,5,43,23,45,3]\n",
    "print(f'{x_list.count(4) = }')\n",
    "x_list.reverse()\n",
    "print(f'{x_list = }')\n",
    "\n",
    "\n",
    "x_list.pop()\n",
    "print(f'{x_list = }')\n",
    "\n",
    "\n",
    "x_list.insert(3, 47)\n",
    "print(f'{x_list = }')\n",
    "\n",
    "\n",
    "x_pop = x_list.pop(6)\n",
    "print(f'{x_list = }, {x_pop = }')\n",
    "\n",
    "\n",
    "x_list.clear()\n",
    "print(f'{x_list = }')\n",
    "\n",
    "\n",
    "del x_list \n",
    "try: \n",
    "          print(f'{x_list = }')\n",
    "except NameError as e:\n",
    "        print(f'Error : {e}')"
   ]
  },
  {
   "cell_type": "code",
   "execution_count": 27,
   "metadata": {},
   "outputs": [
    {
     "name": "stdout",
     "output_type": "stream",
     "text": [
      "안녕하세요 산업데이터공학과 25학번 윤대훈입니다.\n",
      "27\n",
      "True\n",
      "False\n"
     ]
    }
   ],
   "source": [
    "#문자열 생성\n",
    "string1 = '안녕하세요 산업데이터공학과 25학번 윤대훈입니다.'\n",
    "print(string1)\n",
    "print(len(string1))\n",
    "print('산업' in string1)\n",
    "print('산공' in string1)"
   ]
  },
  {
   "cell_type": "code",
   "execution_count": 32,
   "metadata": {},
   "outputs": [
    {
     "name": "stdout",
     "output_type": "stream",
     "text": [
      "{'name': '윤대훈', 'age': 20, 'city': 'Seoul'}\n"
     ]
    }
   ],
   "source": [
    "#dictionary\n",
    "my_dict1 = {'name':'윤대훈', 'age': 20, 'city': 'Seoul'}\n",
    "print(f'{my_dict1}')\n"
   ]
  },
  {
   "cell_type": "code",
   "execution_count": null,
   "metadata": {},
   "outputs": [],
   "source": []
  },
  {
   "cell_type": "code",
   "execution_count": null,
   "metadata": {},
   "outputs": [],
   "source": []
  },
  {
   "cell_type": "code",
   "execution_count": null,
   "metadata": {},
   "outputs": [],
   "source": []
  },
  {
   "cell_type": "code",
   "execution_count": null,
   "metadata": {},
   "outputs": [],
   "source": []
  },
  {
   "cell_type": "code",
   "execution_count": null,
   "metadata": {},
   "outputs": [],
   "source": []
  },
  {
   "cell_type": "code",
   "execution_count": null,
   "metadata": {},
   "outputs": [],
   "source": []
  },
  {
   "cell_type": "code",
   "execution_count": null,
   "metadata": {},
   "outputs": [],
   "source": []
  },
  {
   "cell_type": "code",
   "execution_count": null,
   "metadata": {},
   "outputs": [],
   "source": []
  },
  {
   "cell_type": "code",
   "execution_count": null,
   "metadata": {},
   "outputs": [],
   "source": []
  },
  {
   "cell_type": "code",
   "execution_count": null,
   "metadata": {},
   "outputs": [],
   "source": []
  },
  {
   "cell_type": "code",
   "execution_count": null,
   "metadata": {},
   "outputs": [],
   "source": []
  },
  {
   "cell_type": "code",
   "execution_count": null,
   "metadata": {},
   "outputs": [],
   "source": []
  },
  {
   "cell_type": "code",
   "execution_count": null,
   "metadata": {},
   "outputs": [],
   "source": []
  },
  {
   "cell_type": "code",
   "execution_count": null,
   "metadata": {},
   "outputs": [],
   "source": []
  },
  {
   "cell_type": "code",
   "execution_count": null,
   "metadata": {},
   "outputs": [],
   "source": []
  },
  {
   "cell_type": "code",
   "execution_count": null,
   "metadata": {},
   "outputs": [],
   "source": []
  },
  {
   "cell_type": "code",
   "execution_count": null,
   "metadata": {},
   "outputs": [],
   "source": []
  },
  {
   "cell_type": "code",
   "execution_count": null,
   "metadata": {},
   "outputs": [],
   "source": []
  },
  {
   "cell_type": "code",
   "execution_count": null,
   "metadata": {},
   "outputs": [],
   "source": []
  },
  {
   "cell_type": "code",
   "execution_count": null,
   "metadata": {},
   "outputs": [],
   "source": []
  },
  {
   "cell_type": "code",
   "execution_count": null,
   "metadata": {},
   "outputs": [],
   "source": []
  },
  {
   "cell_type": "code",
   "execution_count": null,
   "metadata": {},
   "outputs": [],
   "source": []
  },
  {
   "cell_type": "code",
   "execution_count": null,
   "metadata": {},
   "outputs": [],
   "source": []
  },
  {
   "cell_type": "code",
   "execution_count": null,
   "metadata": {},
   "outputs": [],
   "source": []
  },
  {
   "cell_type": "code",
   "execution_count": null,
   "metadata": {},
   "outputs": [],
   "source": []
  },
  {
   "cell_type": "code",
   "execution_count": null,
   "metadata": {},
   "outputs": [],
   "source": []
  },
  {
   "cell_type": "code",
   "execution_count": null,
   "metadata": {},
   "outputs": [],
   "source": []
  },
  {
   "cell_type": "code",
   "execution_count": null,
   "metadata": {},
   "outputs": [],
   "source": []
  },
  {
   "cell_type": "code",
   "execution_count": null,
   "metadata": {},
   "outputs": [],
   "source": []
  },
  {
   "cell_type": "code",
   "execution_count": null,
   "metadata": {},
   "outputs": [],
   "source": []
  },
  {
   "cell_type": "code",
   "execution_count": null,
   "metadata": {},
   "outputs": [],
   "source": []
  },
  {
   "cell_type": "code",
   "execution_count": null,
   "metadata": {},
   "outputs": [],
   "source": []
  },
  {
   "cell_type": "code",
   "execution_count": null,
   "metadata": {},
   "outputs": [],
   "source": []
  },
  {
   "cell_type": "code",
   "execution_count": null,
   "metadata": {},
   "outputs": [],
   "source": []
  },
  {
   "cell_type": "code",
   "execution_count": null,
   "metadata": {},
   "outputs": [],
   "source": []
  },
  {
   "cell_type": "code",
   "execution_count": null,
   "metadata": {},
   "outputs": [],
   "source": []
  },
  {
   "cell_type": "code",
   "execution_count": null,
   "metadata": {},
   "outputs": [],
   "source": []
  },
  {
   "cell_type": "code",
   "execution_count": null,
   "metadata": {},
   "outputs": [],
   "source": [
    "\n"
   ]
  },
  {
   "cell_type": "code",
   "execution_count": null,
   "metadata": {},
   "outputs": [],
   "source": []
  },
  {
   "cell_type": "code",
   "execution_count": null,
   "metadata": {},
   "outputs": [],
   "source": []
  },
  {
   "cell_type": "code",
   "execution_count": null,
   "metadata": {},
   "outputs": [],
   "source": []
  },
  {
   "cell_type": "code",
   "execution_count": null,
   "metadata": {},
   "outputs": [
    {
     "name": "stdout",
     "output_type": "stream",
     "text": [
      "<class 'list'>\n"
     ]
    }
   ],
   "source": []
  },
  {
   "cell_type": "code",
   "execution_count": null,
   "metadata": {},
   "outputs": [],
   "source": []
  },
  {
   "cell_type": "code",
   "execution_count": null,
   "metadata": {},
   "outputs": [],
   "source": []
  },
  {
   "cell_type": "code",
   "execution_count": null,
   "metadata": {},
   "outputs": [],
   "source": []
  },
  {
   "cell_type": "code",
   "execution_count": null,
   "metadata": {},
   "outputs": [],
   "source": []
  },
  {
   "cell_type": "code",
   "execution_count": 46,
   "metadata": {},
   "outputs": [
    {
     "name": "stdout",
     "output_type": "stream",
     "text": [
      "1x1= 1\t2x1= 2\t3x1= 3\t4x1= 4\t5x1= 5\t6x1= 6\t7x1= 7\t8x1= 8\t9x1= 9\t\n",
      "1x2= 2\t2x2= 4\t3x2= 6\t4x2= 8\t5x2=10\t6x2=12\t7x2=14\t8x2=16\t9x2=18\t\n",
      "1x3= 3\t2x3= 6\t3x3= 9\t4x3=12\t5x3=15\t6x3=18\t7x3=21\t8x3=24\t9x3=27\t\n",
      "1x4= 4\t2x4= 8\t3x4=12\t4x4=16\t5x4=20\t6x4=24\t7x4=28\t8x4=32\t9x4=36\t\n",
      "1x5= 5\t2x5=10\t3x5=15\t4x5=20\t5x5=25\t6x5=30\t7x5=35\t8x5=40\t9x5=45\t\n",
      "1x6= 6\t2x6=12\t3x6=18\t4x6=24\t5x6=30\t6x6=36\t7x6=42\t8x6=48\t9x6=54\t\n",
      "1x7= 7\t2x7=14\t3x7=21\t4x7=28\t5x7=35\t6x7=42\t7x7=49\t8x7=56\t9x7=63\t\n",
      "1x8= 8\t2x8=16\t3x8=24\t4x8=32\t5x8=40\t6x8=48\t7x8=56\t8x8=64\t9x8=72\t\n",
      "1x9= 9\t2x9=18\t3x9=27\t4x9=36\t5x9=45\t6x9=54\t7x9=63\t8x9=72\t9x9=81\t\n"
     ]
    }
   ],
   "source": [
    "for i in range(1, 10):\n",
    "          for j in range(1, 10):\n",
    "                  print(f'{j}x{i}={j*i:>2d}', end='\\t')\n",
    "                  if j ==9:\n",
    "                          print()\n",
    "                          "
   ]
  },
  {
   "cell_type": "code",
   "execution_count": 49,
   "metadata": {},
   "outputs": [
    {
     "name": "stdout",
     "output_type": "stream",
     "text": [
      "1x1= 1\t2x2= 2\t3x3= 3\t4x4= 4\t5x5= 5\t6x6= 6\t7x7= 7\t8x8= 8\t9x9= 9\t10x10=10\t11x11=11\t12x12=12\t13x13=13\t14x14=14\t15x15=15\t16x16=16\t17x17=17\t18x18=18\t19x19=19\t\n",
      "1x1= 2\t2x2= 4\t3x3= 6\t4x4= 8\t5x5=10\t6x6=12\t7x7=14\t8x8=16\t9x9=18\t10x10=20\t11x11=22\t12x12=24\t13x13=26\t14x14=28\t15x15=30\t16x16=32\t17x17=34\t18x18=36\t19x19=38\t\n",
      "1x1= 3\t2x2= 6\t3x3= 9\t4x4=12\t5x5=15\t6x6=18\t7x7=21\t8x8=24\t9x9=27\t10x10=30\t11x11=33\t12x12=36\t13x13=39\t14x14=42\t15x15=45\t16x16=48\t17x17=51\t18x18=54\t19x19=57\t\n",
      "1x1= 4\t2x2= 8\t3x3=12\t4x4=16\t5x5=20\t6x6=24\t7x7=28\t8x8=32\t9x9=36\t10x10=40\t11x11=44\t12x12=48\t13x13=52\t14x14=56\t15x15=60\t16x16=64\t17x17=68\t18x18=72\t19x19=76\t\n",
      "1x1= 5\t2x2=10\t3x3=15\t4x4=20\t5x5=25\t6x6=30\t7x7=35\t8x8=40\t9x9=45\t10x10=50\t11x11=55\t12x12=60\t13x13=65\t14x14=70\t15x15=75\t16x16=80\t17x17=85\t18x18=90\t19x19=95\t\n",
      "1x1= 6\t2x2=12\t3x3=18\t4x4=24\t5x5=30\t6x6=36\t7x7=42\t8x8=48\t9x9=54\t10x10=60\t11x11=66\t12x12=72\t13x13=78\t14x14=84\t15x15=90\t16x16=96\t17x17=102\t18x18=108\t19x19=114\t\n",
      "1x1= 7\t2x2=14\t3x3=21\t4x4=28\t5x5=35\t6x6=42\t7x7=49\t8x8=56\t9x9=63\t10x10=70\t11x11=77\t12x12=84\t13x13=91\t14x14=98\t15x15=105\t16x16=112\t17x17=119\t18x18=126\t19x19=133\t\n",
      "1x1= 8\t2x2=16\t3x3=24\t4x4=32\t5x5=40\t6x6=48\t7x7=56\t8x8=64\t9x9=72\t10x10=80\t11x11=88\t12x12=96\t13x13=104\t14x14=112\t15x15=120\t16x16=128\t17x17=136\t18x18=144\t19x19=152\t\n",
      "1x1= 9\t2x2=18\t3x3=27\t4x4=36\t5x5=45\t6x6=54\t7x7=63\t8x8=72\t9x9=81\t10x10=90\t11x11=99\t12x12=108\t13x13=117\t14x14=126\t15x15=135\t16x16=144\t17x17=153\t18x18=162\t19x19=171\t\n",
      "1x1=10\t2x2=20\t3x3=30\t4x4=40\t5x5=50\t6x6=60\t7x7=70\t8x8=80\t9x9=90\t10x10=100\t11x11=110\t12x12=120\t13x13=130\t14x14=140\t15x15=150\t16x16=160\t17x17=170\t18x18=180\t19x19=190\t\n",
      "1x1=11\t2x2=22\t3x3=33\t4x4=44\t5x5=55\t6x6=66\t7x7=77\t8x8=88\t9x9=99\t10x10=110\t11x11=121\t12x12=132\t13x13=143\t14x14=154\t15x15=165\t16x16=176\t17x17=187\t18x18=198\t19x19=209\t\n",
      "1x1=12\t2x2=24\t3x3=36\t4x4=48\t5x5=60\t6x6=72\t7x7=84\t8x8=96\t9x9=108\t10x10=120\t11x11=132\t12x12=144\t13x13=156\t14x14=168\t15x15=180\t16x16=192\t17x17=204\t18x18=216\t19x19=228\t\n",
      "1x1=13\t2x2=26\t3x3=39\t4x4=52\t5x5=65\t6x6=78\t7x7=91\t8x8=104\t9x9=117\t10x10=130\t11x11=143\t12x12=156\t13x13=169\t14x14=182\t15x15=195\t16x16=208\t17x17=221\t18x18=234\t19x19=247\t\n",
      "1x1=14\t2x2=28\t3x3=42\t4x4=56\t5x5=70\t6x6=84\t7x7=98\t8x8=112\t9x9=126\t10x10=140\t11x11=154\t12x12=168\t13x13=182\t14x14=196\t15x15=210\t16x16=224\t17x17=238\t18x18=252\t19x19=266\t\n",
      "1x1=15\t2x2=30\t3x3=45\t4x4=60\t5x5=75\t6x6=90\t7x7=105\t8x8=120\t9x9=135\t10x10=150\t11x11=165\t12x12=180\t13x13=195\t14x14=210\t15x15=225\t16x16=240\t17x17=255\t18x18=270\t19x19=285\t\n",
      "1x1=16\t2x2=32\t3x3=48\t4x4=64\t5x5=80\t6x6=96\t7x7=112\t8x8=128\t9x9=144\t10x10=160\t11x11=176\t12x12=192\t13x13=208\t14x14=224\t15x15=240\t16x16=256\t17x17=272\t18x18=288\t19x19=304\t\n",
      "1x1=17\t2x2=34\t3x3=51\t4x4=68\t5x5=85\t6x6=102\t7x7=119\t8x8=136\t9x9=153\t10x10=170\t11x11=187\t12x12=204\t13x13=221\t14x14=238\t15x15=255\t16x16=272\t17x17=289\t18x18=306\t19x19=323\t\n",
      "1x1=18\t2x2=36\t3x3=54\t4x4=72\t5x5=90\t6x6=108\t7x7=126\t8x8=144\t9x9=162\t10x10=180\t11x11=198\t12x12=216\t13x13=234\t14x14=252\t15x15=270\t16x16=288\t17x17=306\t18x18=324\t19x19=342\t\n",
      "1x1=19\t2x2=38\t3x3=57\t4x4=76\t5x5=95\t6x6=114\t7x7=133\t8x8=152\t9x9=171\t10x10=190\t11x11=209\t12x12=228\t13x13=247\t14x14=266\t15x15=285\t16x16=304\t17x17=323\t18x18=342\t19x19=361\t\n"
     ]
    }
   ],
   "source": [
    "for i in range(1, 20):\n",
    "          for j in range(1, 20):\n",
    "                  print(f'{j}x{j}={j*i:>2d}', end='\\t')\n",
    "                  if j == 19:\n",
    "                          print()"
   ]
  },
  {
   "cell_type": "code",
   "execution_count": 55,
   "metadata": {},
   "outputs": [
    {
     "name": "stdout",
     "output_type": "stream",
     "text": [
      " 2x 2  4x 2  6x 2  8x 2 10x 2 12x 2 14x 2 16x 2 18x 2 20x 2 \n",
      " 2x 4  4x 4  6x 4  8x 4 10x 4 12x 4 14x 4 16x 4 18x 4 20x 4 \n",
      " 2x 6  4x 6  6x 6  8x 6 10x 6 12x 6 14x 6 16x 6 18x 6 20x 6 \n",
      " 2x 8  4x 8  6x 8  8x 8 10x 8 12x 8 14x 8 16x 8 18x 8 20x 8 \n",
      " 2x10  4x10  6x10  8x10 10x10 12x10 14x10 16x10 18x10 20x10 \n",
      " 2x12  4x12  6x12  8x12 10x12 12x12 14x12 16x12 18x12 20x12 \n",
      " 2x14  4x14  6x14  8x14 10x14 12x14 14x14 16x14 18x14 20x14 \n",
      " 2x16  4x16  6x16  8x16 10x16 12x16 14x16 16x16 18x16 20x16 \n",
      " 2x18  4x18  6x18  8x18 10x18 12x18 14x18 16x18 18x18 20x18 \n",
      " 2x20  4x20  6x20  8x20 10x20 12x20 14x20 16x20 18x20 20x20 \n"
     ]
    }
   ],
   "source": [
    "for i in range(2, 21, 2):\n",
    "          for j in range(2, 21, 2):\n",
    "                  print(f'{j:>2d}x{i:>2d}', end=' ')\n",
    "                  if j ==20:\n",
    "                      print()"
   ]
  },
  {
   "cell_type": "code",
   "execution_count": 59,
   "metadata": {},
   "outputs": [
    {
     "name": "stdout",
     "output_type": "stream",
     "text": [
      "20x20    18x20    16x20    14x20    12x20    10x20     8x20     6x20     4x20     2x20    \n",
      "20x18    18x18    16x18    14x18    12x18    10x18     8x18     6x18     4x18     2x18    \n",
      "20x16    18x16    16x16    14x16    12x16    10x16     8x16     6x16     4x16     2x16    \n",
      "20x14    18x14    16x14    14x14    12x14    10x14     8x14     6x14     4x14     2x14    \n",
      "20x12    18x12    16x12    14x12    12x12    10x12     8x12     6x12     4x12     2x12    \n",
      "20x10    18x10    16x10    14x10    12x10    10x10     8x10     6x10     4x10     2x10    \n",
      "20x 8    18x 8    16x 8    14x 8    12x 8    10x 8     8x 8     6x 8     4x 8     2x 8    \n",
      "20x 6    18x 6    16x 6    14x 6    12x 6    10x 6     8x 6     6x 6     4x 6     2x 6    \n",
      "20x 4    18x 4    16x 4    14x 4    12x 4    10x 4     8x 4     6x 4     4x 4     2x 4    \n",
      "20x 2    18x 2    16x 2    14x 2    12x 2    10x 2     8x 2     6x 2     4x 2     2x 2    \n"
     ]
    }
   ],
   "source": [
    "for i in range(20, 1, -2):\n",
    "          for j in range(20, 1, -2):\n",
    "                   print(f'{j:>2d}x{i:>2d}', end='    ')\n",
    "                   if j ==2:\n",
    "                           print()\n",
    "\n"
   ]
  },
  {
   "cell_type": "code",
   "execution_count": 60,
   "metadata": {},
   "outputs": [
    {
     "data": {
      "text/plain": [
       "44"
      ]
     },
     "execution_count": 60,
     "metadata": {},
     "output_type": "execute_result"
    }
   ],
   "source": [
    "def add_ten(num):\n",
    "          return num + 10\n",
    "add_ten(34)"
   ]
  },
  {
   "cell_type": "code",
   "execution_count": 61,
   "metadata": {},
   "outputs": [
    {
     "data": {
      "text/plain": [
       "<map at 0x220b7483af0>"
      ]
     },
     "execution_count": 61,
     "metadata": {},
     "output_type": "execute_result"
    }
   ],
   "source": [
    "map(add_ten, [1, 2, 3, 4, 5])"
   ]
  },
  {
   "cell_type": "code",
   "execution_count": null,
   "metadata": {},
   "outputs": [],
   "source": [
    "nums_map "
   ]
  },
  {
   "cell_type": "code",
   "execution_count": null,
   "metadata": {},
   "outputs": [],
   "source": []
  },
  {
   "cell_type": "code",
   "execution_count": null,
   "metadata": {},
   "outputs": [],
   "source": [
    "list{range(2, 3)}"
   ]
  },
  {
   "cell_type": "code",
   "execution_count": null,
   "metadata": {},
   "outputs": [],
   "source": []
  },
  {
   "cell_type": "code",
   "execution_count": null,
   "metadata": {},
   "outputs": [],
   "source": []
  },
  {
   "cell_type": "code",
   "execution_count": null,
   "metadata": {},
   "outputs": [],
   "source": []
  },
  {
   "cell_type": "code",
   "execution_count": null,
   "metadata": {},
   "outputs": [],
   "source": []
  },
  {
   "cell_type": "code",
   "execution_count": null,
   "metadata": {},
   "outputs": [],
   "source": []
  },
  {
   "cell_type": "code",
   "execution_count": null,
   "metadata": {},
   "outputs": [],
   "source": []
  },
  {
   "cell_type": "code",
   "execution_count": null,
   "metadata": {},
   "outputs": [],
   "source": []
  },
  {
   "cell_type": "code",
   "execution_count": null,
   "metadata": {},
   "outputs": [],
   "source": []
  },
  {
   "cell_type": "code",
   "execution_count": null,
   "metadata": {},
   "outputs": [],
   "source": []
  },
  {
   "cell_type": "code",
   "execution_count": null,
   "metadata": {},
   "outputs": [],
   "source": []
  },
  {
   "cell_type": "code",
   "execution_count": null,
   "metadata": {},
   "outputs": [],
   "source": []
  },
  {
   "cell_type": "code",
   "execution_count": null,
   "metadata": {},
   "outputs": [],
   "source": []
  },
  {
   "cell_type": "code",
   "execution_count": null,
   "metadata": {},
   "outputs": [],
   "source": []
  },
  {
   "cell_type": "code",
   "execution_count": null,
   "metadata": {},
   "outputs": [],
   "source": []
  },
  {
   "cell_type": "code",
   "execution_count": null,
   "metadata": {},
   "outputs": [],
   "source": []
  },
  {
   "cell_type": "code",
   "execution_count": null,
   "metadata": {},
   "outputs": [],
   "source": []
  },
  {
   "cell_type": "code",
   "execution_count": null,
   "metadata": {},
   "outputs": [],
   "source": []
  },
  {
   "cell_type": "code",
   "execution_count": null,
   "metadata": {},
   "outputs": [],
   "source": []
  },
  {
   "cell_type": "code",
   "execution_count": null,
   "metadata": {},
   "outputs": [],
   "source": []
  },
  {
   "cell_type": "code",
   "execution_count": null,
   "metadata": {},
   "outputs": [],
   "source": []
  },
  {
   "cell_type": "code",
   "execution_count": null,
   "metadata": {},
   "outputs": [],
   "source": []
  },
  {
   "cell_type": "code",
   "execution_count": null,
   "metadata": {},
   "outputs": [],
   "source": []
  },
  {
   "cell_type": "code",
   "execution_count": null,
   "metadata": {},
   "outputs": [],
   "source": []
  },
  {
   "cell_type": "code",
   "execution_count": null,
   "metadata": {},
   "outputs": [],
   "source": []
  },
  {
   "cell_type": "code",
   "execution_count": null,
   "metadata": {},
   "outputs": [],
   "source": []
  },
  {
   "cell_type": "code",
   "execution_count": null,
   "metadata": {},
   "outputs": [],
   "source": []
  },
  {
   "cell_type": "code",
   "execution_count": null,
   "metadata": {},
   "outputs": [],
   "source": []
  },
  {
   "cell_type": "code",
   "execution_count": null,
   "metadata": {},
   "outputs": [],
   "source": []
  },
  {
   "cell_type": "code",
   "execution_count": null,
   "metadata": {},
   "outputs": [],
   "source": []
  },
  {
   "cell_type": "code",
   "execution_count": null,
   "metadata": {},
   "outputs": [],
   "source": []
  },
  {
   "cell_type": "code",
   "execution_count": null,
   "metadata": {},
   "outputs": [],
   "source": []
  },
  {
   "cell_type": "code",
   "execution_count": null,
   "metadata": {},
   "outputs": [],
   "source": []
  },
  {
   "cell_type": "code",
   "execution_count": null,
   "metadata": {},
   "outputs": [],
   "source": []
  },
  {
   "cell_type": "code",
   "execution_count": null,
   "metadata": {},
   "outputs": [],
   "source": []
  },
  {
   "cell_type": "code",
   "execution_count": null,
   "metadata": {},
   "outputs": [],
   "source": []
  },
  {
   "cell_type": "code",
   "execution_count": null,
   "metadata": {},
   "outputs": [],
   "source": []
  },
  {
   "cell_type": "code",
   "execution_count": null,
   "metadata": {},
   "outputs": [],
   "source": []
  },
  {
   "cell_type": "code",
   "execution_count": null,
   "metadata": {},
   "outputs": [],
   "source": []
  },
  {
   "cell_type": "code",
   "execution_count": null,
   "metadata": {},
   "outputs": [],
   "source": []
  },
  {
   "cell_type": "code",
   "execution_count": null,
   "metadata": {},
   "outputs": [],
   "source": []
  },
  {
   "cell_type": "code",
   "execution_count": null,
   "metadata": {},
   "outputs": [],
   "source": [
    "\n"
   ]
  },
  {
   "cell_type": "code",
   "execution_count": null,
   "metadata": {},
   "outputs": [],
   "source": []
  },
  {
   "cell_type": "code",
   "execution_count": null,
   "metadata": {},
   "outputs": [],
   "source": []
  },
  {
   "cell_type": "code",
   "execution_count": null,
   "metadata": {},
   "outputs": [],
   "source": []
  },
  {
   "cell_type": "code",
   "execution_count": null,
   "metadata": {},
   "outputs": [],
   "source": []
  },
  {
   "cell_type": "code",
   "execution_count": null,
   "metadata": {},
   "outputs": [],
   "source": []
  },
  {
   "cell_type": "code",
   "execution_count": null,
   "metadata": {},
   "outputs": [],
   "source": []
  },
  {
   "cell_type": "code",
   "execution_count": null,
   "metadata": {},
   "outputs": [],
   "source": []
  },
  {
   "cell_type": "code",
   "execution_count": null,
   "metadata": {},
   "outputs": [],
   "source": []
  },
  {
   "cell_type": "code",
   "execution_count": null,
   "metadata": {},
   "outputs": [],
   "source": []
  },
  {
   "cell_type": "code",
   "execution_count": null,
   "metadata": {},
   "outputs": [],
   "source": []
  },
  {
   "cell_type": "code",
   "execution_count": null,
   "metadata": {},
   "outputs": [],
   "source": []
  },
  {
   "cell_type": "code",
   "execution_count": null,
   "metadata": {},
   "outputs": [],
   "source": []
  },
  {
   "cell_type": "code",
   "execution_count": null,
   "metadata": {},
   "outputs": [],
   "source": []
  },
  {
   "cell_type": "code",
   "execution_count": null,
   "metadata": {},
   "outputs": [],
   "source": []
  },
  {
   "cell_type": "code",
   "execution_count": null,
   "metadata": {},
   "outputs": [],
   "source": []
  },
  {
   "cell_type": "code",
   "execution_count": null,
   "metadata": {},
   "outputs": [],
   "source": []
  },
  {
   "cell_type": "code",
   "execution_count": null,
   "metadata": {},
   "outputs": [],
   "source": []
  },
  {
   "cell_type": "code",
   "execution_count": null,
   "metadata": {},
   "outputs": [],
   "source": [
    "\n"
   ]
  },
  {
   "cell_type": "code",
   "execution_count": null,
   "metadata": {},
   "outputs": [],
   "source": []
  },
  {
   "cell_type": "code",
   "execution_count": null,
   "metadata": {},
   "outputs": [],
   "source": []
  },
  {
   "cell_type": "code",
   "execution_count": null,
   "metadata": {},
   "outputs": [],
   "source": []
  },
  {
   "cell_type": "code",
   "execution_count": null,
   "metadata": {},
   "outputs": [],
   "source": []
  },
  {
   "cell_type": "code",
   "execution_count": null,
   "metadata": {},
   "outputs": [],
   "source": []
  }
 ],
 "metadata": {
  "kernelspec": {
   "display_name": "base",
   "language": "python",
   "name": "python3"
  },
  "language_info": {
   "codemirror_mode": {
    "name": "ipython",
    "version": 3
   },
   "file_extension": ".py",
   "mimetype": "text/x-python",
   "name": "python",
   "nbconvert_exporter": "python",
   "pygments_lexer": "ipython3",
   "version": "3.12.8"
  }
 },
 "nbformat": 4,
 "nbformat_minor": 2
}
