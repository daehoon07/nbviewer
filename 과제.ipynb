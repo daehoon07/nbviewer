{
 "cells": [
  {
   "cell_type": "code",
   "execution_count": 33,
   "metadata": {},
   "outputs": [
    {
     "name": "stdout",
     "output_type": "stream",
     "text": [
      "변수와 입출력\n"
     ]
    }
   ],
   "source": [
    "print('변수와 입출력')"
   ]
  },
  {
   "cell_type": "code",
   "execution_count": 1,
   "metadata": {},
   "outputs": [
    {
     "name": "stdout",
     "output_type": "stream",
     "text": [
      "산업·데이터공학\n",
      "2192292710400\n"
     ]
    }
   ],
   "source": [
    "var_x = '산업·데이터공학'\n",
    "print(var_x)\n",
    "print(id(var_x))"
   ]
  },
  {
   "cell_type": "code",
   "execution_count": 2,
   "metadata": {},
   "outputs": [
    {
     "name": "stdout",
     "output_type": "stream",
     "text": [
      "산업·데이터공학과\n",
      "2192269686176\n"
     ]
    }
   ],
   "source": [
    "var_x = '산업·데이터공학과'\n",
    "print(var_x)\n",
    "print(id(var_x))\n"
   ]
  },
  {
   "cell_type": "code",
   "execution_count": 3,
   "metadata": {},
   "outputs": [
    {
     "name": "stdout",
     "output_type": "stream",
     "text": [
      "산업·데이터공학과\n",
      "2192292711680\n"
     ]
    }
   ],
   "source": [
    "var_y = '산업·데이터공학과'\n",
    "print(var_y)\n",
    "print(id(var_y))\n"
   ]
  },
  {
   "cell_type": "code",
   "execution_count": 4,
   "metadata": {},
   "outputs": [
    {
     "data": {
      "application/json": {
       "cell": {
        "!": "OSMagics",
        "HTML": "Other",
        "SVG": "Other",
        "bash": "Other",
        "capture": "ExecutionMagics",
        "cmd": "Other",
        "code_wrap": "ExecutionMagics",
        "debug": "ExecutionMagics",
        "file": "Other",
        "html": "DisplayMagics",
        "javascript": "DisplayMagics",
        "js": "DisplayMagics",
        "latex": "DisplayMagics",
        "markdown": "DisplayMagics",
        "perl": "Other",
        "prun": "ExecutionMagics",
        "pypy": "Other",
        "python": "Other",
        "python2": "Other",
        "python3": "Other",
        "ruby": "Other",
        "script": "ScriptMagics",
        "sh": "Other",
        "svg": "DisplayMagics",
        "sx": "OSMagics",
        "system": "OSMagics",
        "time": "ExecutionMagics",
        "timeit": "ExecutionMagics",
        "writefile": "OSMagics"
       },
       "line": {
        "alias": "OSMagics",
        "alias_magic": "BasicMagics",
        "autoawait": "AsyncMagics",
        "autocall": "AutoMagics",
        "automagic": "AutoMagics",
        "autosave": "KernelMagics",
        "bookmark": "OSMagics",
        "cd": "OSMagics",
        "clear": "KernelMagics",
        "cls": "KernelMagics",
        "code_wrap": "ExecutionMagics",
        "colors": "BasicMagics",
        "conda": "PackagingMagics",
        "config": "ConfigMagics",
        "connect_info": "KernelMagics",
        "copy": "Other",
        "ddir": "Other",
        "debug": "ExecutionMagics",
        "dhist": "OSMagics",
        "dirs": "OSMagics",
        "doctest_mode": "BasicMagics",
        "echo": "Other",
        "ed": "Other",
        "edit": "KernelMagics",
        "env": "OSMagics",
        "gui": "BasicMagics",
        "hist": "Other",
        "history": "HistoryMagics",
        "killbgscripts": "ScriptMagics",
        "ldir": "Other",
        "less": "KernelMagics",
        "load": "CodeMagics",
        "load_ext": "ExtensionMagics",
        "loadpy": "CodeMagics",
        "logoff": "LoggingMagics",
        "logon": "LoggingMagics",
        "logstart": "LoggingMagics",
        "logstate": "LoggingMagics",
        "logstop": "LoggingMagics",
        "ls": "Other",
        "lsmagic": "BasicMagics",
        "macro": "ExecutionMagics",
        "magic": "BasicMagics",
        "mamba": "PackagingMagics",
        "matplotlib": "PylabMagics",
        "micromamba": "PackagingMagics",
        "mkdir": "Other",
        "more": "KernelMagics",
        "notebook": "BasicMagics",
        "page": "BasicMagics",
        "pastebin": "CodeMagics",
        "pdb": "ExecutionMagics",
        "pdef": "NamespaceMagics",
        "pdoc": "NamespaceMagics",
        "pfile": "NamespaceMagics",
        "pinfo": "NamespaceMagics",
        "pinfo2": "NamespaceMagics",
        "pip": "PackagingMagics",
        "popd": "OSMagics",
        "pprint": "BasicMagics",
        "precision": "BasicMagics",
        "prun": "ExecutionMagics",
        "psearch": "NamespaceMagics",
        "psource": "NamespaceMagics",
        "pushd": "OSMagics",
        "pwd": "OSMagics",
        "pycat": "OSMagics",
        "pylab": "PylabMagics",
        "qtconsole": "KernelMagics",
        "quickref": "BasicMagics",
        "recall": "HistoryMagics",
        "rehashx": "OSMagics",
        "reload_ext": "ExtensionMagics",
        "ren": "Other",
        "rep": "Other",
        "rerun": "HistoryMagics",
        "reset": "NamespaceMagics",
        "reset_selective": "NamespaceMagics",
        "rmdir": "Other",
        "run": "ExecutionMagics",
        "save": "CodeMagics",
        "sc": "OSMagics",
        "set_env": "OSMagics",
        "store": "StoreMagics",
        "sx": "OSMagics",
        "system": "OSMagics",
        "tb": "ExecutionMagics",
        "time": "ExecutionMagics",
        "timeit": "ExecutionMagics",
        "unalias": "OSMagics",
        "unload_ext": "ExtensionMagics",
        "uv": "PackagingMagics",
        "who": "NamespaceMagics",
        "who_ls": "NamespaceMagics",
        "whos": "NamespaceMagics",
        "xdel": "NamespaceMagics",
        "xmode": "BasicMagics"
       }
      },
      "text/plain": [
       "Available line magics:\n",
       "%alias  %alias_magic  %autoawait  %autocall  %automagic  %autosave  %bookmark  %cd  %clear  %cls  %code_wrap  %colors  %conda  %config  %connect_info  %copy  %ddir  %debug  %dhist  %dirs  %doctest_mode  %echo  %ed  %edit  %env  %gui  %hist  %history  %killbgscripts  %ldir  %less  %load  %load_ext  %loadpy  %logoff  %logon  %logstart  %logstate  %logstop  %ls  %lsmagic  %macro  %magic  %mamba  %matplotlib  %micromamba  %mkdir  %more  %notebook  %page  %pastebin  %pdb  %pdef  %pdoc  %pfile  %pinfo  %pinfo2  %pip  %popd  %pprint  %precision  %prun  %psearch  %psource  %pushd  %pwd  %pycat  %pylab  %qtconsole  %quickref  %recall  %rehashx  %reload_ext  %ren  %rep  %rerun  %reset  %reset_selective  %rmdir  %run  %save  %sc  %set_env  %store  %sx  %system  %tb  %time  %timeit  %unalias  %unload_ext  %uv  %who  %who_ls  %whos  %xdel  %xmode\n",
       "\n",
       "Available cell magics:\n",
       "%%!  %%HTML  %%SVG  %%bash  %%capture  %%cmd  %%code_wrap  %%debug  %%file  %%html  %%javascript  %%js  %%latex  %%markdown  %%perl  %%prun  %%pypy  %%python  %%python2  %%python3  %%ruby  %%script  %%sh  %%svg  %%sx  %%system  %%time  %%timeit  %%writefile\n",
       "\n",
       "Automagic is ON, % prefix IS NOT needed for line magics."
      ]
     },
     "execution_count": 4,
     "metadata": {},
     "output_type": "execute_result"
    }
   ],
   "source": [
    "%lsmagic"
   ]
  },
  {
   "cell_type": "code",
   "execution_count": 5,
   "metadata": {},
   "outputs": [
    {
     "data": {
      "text/plain": [
       "'c:\\\\파이썬 과제1'"
      ]
     },
     "execution_count": 5,
     "metadata": {},
     "output_type": "execute_result"
    }
   ],
   "source": [
    "%pwd"
   ]
  },
  {
   "cell_type": "code",
   "execution_count": 6,
   "metadata": {},
   "outputs": [
    {
     "name": "stdout",
     "output_type": "stream",
     "text": [
      " C ����̺��� �������� �̸��� �����ϴ�.\n",
      " ���� �Ϸ� ��ȣ: C0FD-5525\n",
      "\n",
      " c:\\���̽� ����1 ���͸�\n",
      "\n",
      "2025-04-06  ���� 08:36    <DIR>          .\n",
      "2025-04-06  ���� 05:36            22,676 ����.ipynb\n",
      "2025-04-06  ���� 08:36               576 ����2.ipynb\n",
      "2025-04-02  ���� 09:06                39 �ǽ�.py\n",
      "2025-04-06  ���� 08:20            55,663 ������.ipynb\n",
      "               4�� ����              78,954 ����Ʈ\n",
      "               1�� ���͸�  137,512,947,712 ����Ʈ ����\n"
     ]
    }
   ],
   "source": [
    "%ls"
   ]
  },
  {
   "cell_type": "code",
   "execution_count": 7,
   "metadata": {},
   "outputs": [
    {
     "name": "stdout",
     "output_type": "stream",
     "text": [
      "var_x\t var_y\t \n"
     ]
    }
   ],
   "source": [
    "%who"
   ]
  },
  {
   "cell_type": "code",
   "execution_count": 8,
   "metadata": {},
   "outputs": [
    {
     "name": "stdout",
     "output_type": "stream",
     "text": [
      "Variable   Type    Data/Info\n",
      "----------------------------\n",
      "var_x      str     산업·데이터공학과\n",
      "var_y      str     산업·데이터공학과\n"
     ]
    }
   ],
   "source": [
    "%whos"
   ]
  },
  {
   "cell_type": "code",
   "execution_count": 9,
   "metadata": {},
   "outputs": [
    {
     "name": "stdout",
     "output_type": "stream",
     "text": [
      "Variable   Type    Data/Info\n",
      "----------------------------\n",
      "var_x      str     산업·데이터공학과\n",
      "var_y      str     산업·데이터공학과\n",
      "var_z1     int     123\n",
      "var_z2     list    n=5\n"
     ]
    }
   ],
   "source": [
    "var_z1 = 123\n",
    "var_z2 = [1,2,3,4,5]\n",
    "%whos\n"
   ]
  },
  {
   "cell_type": "code",
   "execution_count": 10,
   "metadata": {},
   "outputs": [
    {
     "name": "stdout",
     "output_type": "stream",
     "text": [
      "Variable   Type    Data/Info\n",
      "----------------------------\n",
      "var_x      str     산업·데이터공학과\n"
     ]
    }
   ],
   "source": [
    "del var_y, var_z1, var_z2\n",
    "%whos"
   ]
  },
  {
   "cell_type": "code",
   "execution_count": 11,
   "metadata": {},
   "outputs": [],
   "source": [
    "var_x = input('데이터를 입력하세요:')\n"
   ]
  },
  {
   "cell_type": "code",
   "execution_count": 12,
   "metadata": {},
   "outputs": [
    {
     "name": "stdout",
     "output_type": "stream",
     "text": [
      "var_x = '123'\n",
      "type(var_x) = <class 'str'>\n"
     ]
    }
   ],
   "source": [
    "print(f'{var_x = }')\n",
    "print(f'{type(var_x) = }')"
   ]
  },
  {
   "cell_type": "code",
   "execution_count": 13,
   "metadata": {},
   "outputs": [
    {
     "name": "stdout",
     "output_type": "stream",
     "text": [
      "13431\n",
      "<class 'int'>\n"
     ]
    }
   ],
   "source": [
    "var_y = int(input('숫자를 입력하세요: '))\n",
    "print(var_y)\n",
    "print(type(var_y))"
   ]
  },
  {
   "cell_type": "code",
   "execution_count": 14,
   "metadata": {},
   "outputs": [
    {
     "name": "stdout",
     "output_type": "stream",
     "text": [
      "10\n",
      "10 산업·데이터공학과 3.14 True\n",
      "10산업·데이터공학과3.14True\n",
      "10산업·데이터공학과3.14True\t*************\n"
     ]
    }
   ],
   "source": [
    "print(10)\n",
    "print (10, '산업·데이터공학과', 3.14, True)\n",
    "print (10, '산업·데이터공학과', 3.14, True, sep='')\n",
    "print(10, '산업·데이터공학과', 3.14, True, sep='', end='\\t*************\\n')\n"
   ]
  },
  {
   "cell_type": "code",
   "execution_count": 15,
   "metadata": {},
   "outputs": [
    {
     "name": "stdout",
     "output_type": "stream",
     "text": [
      "이름 : 홍길동\n",
      "학번 : 20210000\n",
      "학과 : 산업·데이터공학과\n"
     ]
    }
   ],
   "source": [
    "print('이름 : 홍길동\\n학번 : 20210000\\n학과 : 산업·데이터공학과')"
   ]
  },
  {
   "cell_type": "code",
   "execution_count": 16,
   "metadata": {},
   "outputs": [
    {
     "name": "stdout",
     "output_type": "stream",
     "text": [
      "이름\t학번\t\t학과\n",
      "홍길동\t20210000\t산업·데이터공학과\n",
      "김강\t20210001\t경영학과\n"
     ]
    }
   ],
   "source": [
    "print('이름\\t학번\\t\\t학과')\n",
    "print('홍길동\\t20210000\\t산업·데이터공학과')\n",
    "print('김강\\t20210001\\t경영학과')\n"
   ]
  },
  {
   "cell_type": "code",
   "execution_count": 17,
   "metadata": {},
   "outputs": [
    {
     "name": "stdout",
     "output_type": "stream",
     "text": [
      "54321\n",
      "------------------------------\n",
      "54321\n",
      "------------------------------\n",
      "var_y = 54321\n"
     ]
    }
   ],
   "source": [
    "var_y = 54321\n",
    "print(f'{var_y}', end = '\\n------------------------------\\n')\n",
    "print(f'{var_y}', end = '\\n------------------------------\\n')\n",
    "print(f'var_y = {var_y}')"
   ]
  },
  {
   "cell_type": "code",
   "execution_count": 18,
   "metadata": {},
   "outputs": [
    {
     "name": "stdout",
     "output_type": "stream",
     "text": [
      "var_x는 정수형이므로 d를 사용하여야 하고, 54321입니다.\n",
      "var_x를 총 20개의 자리에 표현하면,                54321입니다.\n",
      "var_x를 총 20개의 자리에 왼쪽 정렬하여 표현하면, 54321               입니다.\n",
      "var_y는 실수형이므로 f를 사용하여야 하고, 54321.123457입니다.\n",
      "var_y를 정수만 출력하면 54321입니다.\n",
      "var_y를 소수점 5자리까지 출력하면 54321.12346입니다.\n",
      "var_y를 20자리에 가운데 정렬하여 소수점 3자리까지 출력하면      54321.123      입니다.\n"
     ]
    }
   ],
   "source": [
    "var_x = 54321\n",
    "var_y = 54321.123456789\n",
    "print(f'var_x는 정수형이므로 d를 사용하여야 하고, {var_x:d}입니다.')\n",
    "print(f'var_x를 총 20개의 자리에 표현하면, {var_x:20d}입니다.')\n",
    "print(f'var_x를 총 20개의 자리에 왼쪽 정렬하여 표현하면, {var_x: <20d}입니다.')\n",
    "print(f'var_y는 실수형이므로 f를 사용하여야 하고, {var_y:f}입니다.')\n",
    "print(f'var_y를 정수만 출력하면 {var_y:.0f}입니다.')\n",
    "print(f'var_y를 소수점 5자리까지 출력하면 {var_y:.5f}입니다.')\n",
    "print(f'var_y를 20자리에 가운데 정렬하여 소수점 3자리까지 출력하면 {var_y:^20.3f}입니다.')\n"
   ]
  },
  {
   "cell_type": "code",
   "execution_count": 32,
   "metadata": {},
   "outputs": [
    {
     "name": "stdout",
     "output_type": "stream",
     "text": [
      "여기서부터는 응용입니다\n"
     ]
    }
   ],
   "source": [
    "print('여기서부터는 응용입니다')"
   ]
  },
  {
   "cell_type": "code",
   "execution_count": 19,
   "metadata": {},
   "outputs": [],
   "source": [
    "#변수 var_y를 삭제\n",
    "del var_y"
   ]
  },
  {
   "cell_type": "code",
   "execution_count": 20,
   "metadata": {},
   "outputs": [
    {
     "name": "stdout",
     "output_type": "stream",
     "text": [
      "컴퓨터공학\n",
      "2192292724080\n"
     ]
    }
   ],
   "source": [
    " #변수 var_y에 문자열 데이터 '컴퓨터공학'을 저장\n",
    "var_y = '컴퓨터공학'\n",
    "#변수 var_y에 저장된 데이터를 출력\n",
    "print(var_y)\n",
    "#변수 var_y의 메모리 주소를 출력\n",
    "print(id(var_y))"
   ]
  },
  {
   "cell_type": "code",
   "execution_count": 21,
   "metadata": {},
   "outputs": [
    {
     "name": "stdout",
     "output_type": "stream",
     "text": [
      "컴퓨터공학과\n",
      "2192292719840\n"
     ]
    }
   ],
   "source": [
    " #변수 var_y를 문자열 데이터 '컴퓨터공학과'로 수정\n",
    "var_y = '컴퓨터공학과'\n",
    "print(var_y)\n",
    "print(id(var_y))\n"
   ]
  },
  {
   "cell_type": "code",
   "execution_count": 22,
   "metadata": {},
   "outputs": [
    {
     "name": "stdout",
     "output_type": "stream",
     "text": [
      "학번: 521044\n",
      "<class 'int'>\n",
      "이름: 윤대훈\n",
      "<class 'str'>\n"
     ]
    }
   ],
   "source": [
    "# 사용자로부터 데이터를 입력받아 정수형으로 변환한 후, 변수 var_z1에 저장\n",
    "var_z1 = int(input('학번을 입력하세요:'))\n",
    "#변수 var_z1에 저장된 데이터를 출력\n",
    "print('학번:', var_z1)\n",
    "#변수 var_z1의 데이터 타입을 출력\n",
    "print(type(var_z1))\n",
    "# 사용자로부터 데이터를 입력받아 문자형으로 변환한 후, 변수 var_z2에 저장\n",
    "var_z2 = str(input('이름을 입력하세요:'))\n",
    "#변수 var_z2에 저장된 데이터를 출력\n",
    "print('이름:', var_z2)\n",
    "#변수 var_z2의 데이터 타입을 출력\n",
    "print(type(var_z2))\n"
   ]
  },
  {
   "cell_type": "code",
   "execution_count": 23,
   "metadata": {},
   "outputs": [
    {
     "name": "stdout",
     "output_type": "stream",
     "text": [
      "이름: 윤대훈\n",
      "학과: 산업·데이터공학과\n",
      "학번: C521044\n"
     ]
    }
   ],
   "source": [
    "#줄바꿈 적용\n",
    "print('이름: 윤대훈\\n학과: 산업·데이터공학과\\n학번: C521044')"
   ]
  },
  {
   "cell_type": "code",
   "execution_count": 29,
   "metadata": {},
   "outputs": [
    {
     "name": "stdout",
     "output_type": "stream",
     "text": [
      "var_x는 실수형이므로 f를 사용하여야 하고, 3.141593입니다.\n",
      "var_x를 정수형만 출력하면 3입니다.\n",
      "var_x를 소수점 45번째 자리까지 출력하면 3.141592653589793115997963468544185161590576172입니다.\n",
      "var_x를 소수점 20번째 자리까지 출력하면 3.14159265358979311600입니다.\n"
     ]
    }
   ],
   "source": [
    "#원주율의 값을 활용하기\n",
    "var_x = 3.1415926535897932384626433832795028841971693993751058209749445923078164062862089986280348253421170679821480865132823066470938446095505822317253594081284811174502841027019385211055596446229489549303819644288109756659334461284756482337867831652712019091456485669234603486104543266482133936072602491412737245870066063155881748815209209628292540917153643678925903600113305305488204665213841469519415116094330572703657595919530921861173819326117931051185480744623799627495673518857527248912279381830119491298336733624406566430860213949463952247371907021798609437027705392171762931767523846748184676694051320005681271452635608277857713427577896091736371787214684409012249534301465495853710507922796892589235420199561121290219608640344181598136297747713099605187072113499999983729780499510597317328160963185950244594553469083026425223082533446850352619311881710100031378387528865875332083814206171776691473035982534904287554687311595628638823537875937519577818577805321712268066130019278766111959092164201989\n",
    "print(f'var_x는 실수형이므로 f를 사용하여야 하고, {var_x:f}입니다.')\n",
    "print(f'var_x를 정수형만 출력하면 {var_x:.0f}입니다.')\n",
    "print(f'var_x를 소수점 45번째 자리까지 출력하면 {var_x:.45f}입니다.')\n",
    "print(f'var_x를 소수점 20번째 자리까지 출력하면 {var_x:.20f}입니다.')"
   ]
  },
  {
   "cell_type": "code",
   "execution_count": 31,
   "metadata": {},
   "outputs": [
    {
     "name": "stdout",
     "output_type": "stream",
     "text": [
      "학과: 산업데이터공학과\n",
      "학번: C 521044\n",
      "이름: 윤대훈\n",
      "성별: 남자\n"
     ]
    }
   ],
   "source": [
    "#학생들이 각자의 학과,학번,이름,성별을 입력하는 시스템을 만들때\n",
    "var_t = str(input('학과를 입력하세요:'))\n",
    "print('학과:',var_t)\n",
    "var_k = int(input('학번을 입력하세요:'))\n",
    "print('학번:','C',var_k)\n",
    "var_p = str(input('이름을 입력하세요:'))\n",
    "print('이름:',var_p)\n",
    "var_c = str(input('성별을 입력하세요:'))\n",
    "print('성별:',var_c)\n"
   ]
  },
  {
   "cell_type": "code",
   "execution_count": null,
   "metadata": {},
   "outputs": [
    {
     "name": "stdout",
     "output_type": "stream",
     "text": [
      "Variable   Type    Data/Info\n",
      "----------------------------\n",
      "var_y      str     컴퓨터공학과\n",
      "var_z1     int     521044\n",
      "var_z2     str     윤대훈\n"
     ]
    }
   ],
   "source": [
    "#현재 커널에서 사용 중인 변수 목록, 데이터 타입, 값\n",
    "%whos"
   ]
  }
 ],
 "metadata": {
  "kernelspec": {
   "display_name": "base",
   "language": "python",
   "name": "python3"
  },
  "language_info": {
   "codemirror_mode": {
    "name": "ipython",
    "version": 3
   },
   "file_extension": ".py",
   "mimetype": "text/x-python",
   "name": "python",
   "nbconvert_exporter": "python",
   "pygments_lexer": "ipython3",
   "version": "3.12.8"
  }
 },
 "nbformat": 4,
 "nbformat_minor": 2
}
