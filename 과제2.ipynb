{
 "cells": [
  {
   "cell_type": "code",
   "execution_count": 1,
   "metadata": {},
   "outputs": [
    {
     "name": "stdout",
     "output_type": "stream",
     "text": [
      "x_value = 12345\n",
      "type(x_value) = <class 'int'>\n"
     ]
    }
   ],
   "source": [
    "x_value = 12345\n",
    "print(f'{x_value = }\\n{type(x_value) = }')\n"
   ]
  },
  {
   "cell_type": "code",
   "execution_count": 2,
   "metadata": {},
   "outputs": [
    {
     "name": "stdout",
     "output_type": "stream",
     "text": [
      "x_str = 'abcde'\n",
      "type(x_str) = <class 'str'>\n"
     ]
    }
   ],
   "source": [
    "x_str = 'abcde'\n",
    "print(f'{x_str = }\\n{type(x_str) = }')"
   ]
  },
  {
   "cell_type": "code",
   "execution_count": 3,
   "metadata": {},
   "outputs": [
    {
     "name": "stdout",
     "output_type": "stream",
     "text": [
      "x_list = ['abcde', 12345]\n",
      "type(x_list) = <class 'list'>\n"
     ]
    }
   ],
   "source": [
    "x_list = [x_str, x_value]\n",
    "print(f'{x_list = }\\n{type(x_list) = }')"
   ]
  },
  {
   "cell_type": "code",
   "execution_count": 4,
   "metadata": {},
   "outputs": [
    {
     "name": "stdout",
     "output_type": "stream",
     "text": [
      "x_tuple = ('abcde', 12345)\n",
      "type(x_tuple) = <class 'tuple'>\n"
     ]
    }
   ],
   "source": [
    "x_tuple = (x_str, x_value)\n",
    "print(f'{x_tuple = }\\n{type(x_tuple) = }')"
   ]
  },
  {
   "cell_type": "code",
   "execution_count": 5,
   "metadata": {},
   "outputs": [
    {
     "name": "stdout",
     "output_type": "stream",
     "text": [
      "x_dict = {'name': 'Chunghun Ha', 'id': 67890}\n",
      "type(x_dict) = <class 'dict'>\n"
     ]
    }
   ],
   "source": [
    "x_dict = {'name' : 'Chunghun Ha', 'id':67890}\n",
    "print(f'{x_dict = }\\n{type(x_dict) = }')"
   ]
  },
  {
   "cell_type": "code",
   "execution_count": 7,
   "metadata": {},
   "outputs": [
    {
     "name": "stdout",
     "output_type": "stream",
     "text": [
      "x_none = None\n",
      "type(x_none) = <class 'NoneType'>\n"
     ]
    }
   ],
   "source": [
    "x_none = None\n",
    "print(f'{x_none = }\\n{type(x_none) = }')"
   ]
  },
  {
   "cell_type": "code",
   "execution_count": 8,
   "metadata": {},
   "outputs": [
    {
     "name": "stdout",
     "output_type": "stream",
     "text": [
      "['__abs__', '__add__', '__and__', '__bool__', '__ceil__', '__class__', '__delattr__', '__dir__', '__divmod__', '__doc__', '__eq__', '__float__', '__floor__', '__floordiv__', '__format__', '__ge__', '__getattribute__', '__getnewargs__', '__getstate__', '__gt__', '__hash__', '__index__', '__init__', '__init_subclass__', '__int__', '__invert__', '__le__', '__lshift__', '__lt__', '__mod__', '__mul__', '__ne__', '__neg__', '__new__', '__or__', '__pos__', '__pow__', '__radd__', '__rand__', '__rdivmod__', '__reduce__', '__reduce_ex__', '__repr__', '__rfloordiv__', '__rlshift__', '__rmod__', '__rmul__', '__ror__', '__round__', '__rpow__', '__rrshift__', '__rshift__', '__rsub__', '__rtruediv__', '__rxor__', '__setattr__', '__sizeof__', '__str__', '__sub__', '__subclasshook__', '__truediv__', '__trunc__', '__xor__', 'as_integer_ratio', 'bit_count', 'bit_length', 'conjugate', 'denominator', 'from_bytes', 'imag', 'is_integer', 'numerator', 'real', 'to_bytes']\n"
     ]
    }
   ],
   "source": [
    "print(dir(x_value))"
   ]
  },
  {
   "cell_type": "code",
   "execution_count": 9,
   "metadata": {},
   "outputs": [
    {
     "name": "stdout",
     "output_type": "stream",
     "text": [
      "x_value.real = 12345\n",
      "x_value.bit_length() = 14\n"
     ]
    }
   ],
   "source": [
    "print(f'{x_value.real = }')\n",
    "print(f'{x_value.bit_length() = }')"
   ]
  },
  {
   "cell_type": "code",
   "execution_count": 10,
   "metadata": {},
   "outputs": [
    {
     "name": "stdout",
     "output_type": "stream",
     "text": [
      "Before: x_list = ['abcde', 12345]\n",
      "After ; x_list = ['abcde', 'fghij']\n"
     ]
    }
   ],
   "source": [
    "x_list = ['abcde', 12345]\n",
    "print(f'Before: {x_list = }')\n",
    "x_list[1] = 'fghij'\n",
    "print(f'After ; {x_list = }')\n"
   ]
  },
  {
   "cell_type": "code",
   "execution_count": 11,
   "metadata": {},
   "outputs": [
    {
     "name": "stdout",
     "output_type": "stream",
     "text": [
      "Before: x_dict = {'name': 'Chunghun Ha', 'id': 67890}\n",
      "After : x_dict = {'name': 'Gildong Hong', 'id': 67890}\n"
     ]
    }
   ],
   "source": [
    "x_dict = {'name': 'Chunghun Ha', 'id':67890}\n",
    "print(f'Before: {x_dict = }')\n",
    "x_dict['name'] = 'Gildong Hong'\n",
    "print(f'After : {x_dict = }')\n"
   ]
  },
  {
   "cell_type": "code",
   "execution_count": 12,
   "metadata": {},
   "outputs": [
    {
     "name": "stdout",
     "output_type": "stream",
     "text": [
      "Before: x_str = 'abcde'\n",
      "Error : 'str' object does not support item assignment\n",
      "After : x_str = 'abcde'\n"
     ]
    }
   ],
   "source": [
    "x_str = 'abcde'\n",
    "print(f'Before: {x_str = }')\n",
    "try:\n",
    "          x_str[1] = '2'\n",
    "except TypeError as e:\n",
    "       print(f'Error : {e}')\n",
    "print(f'After : {x_str = }')"
   ]
  },
  {
   "cell_type": "code",
   "execution_count": 13,
   "metadata": {},
   "outputs": [
    {
     "name": "stdout",
     "output_type": "stream",
     "text": [
      "Befoe: x_tuple = ('abcde', 12345)\n",
      "Error : 'tuple' object does not support item assignment\n",
      "After : x_tuple = ('abcde', 12345)\n"
     ]
    }
   ],
   "source": [
    "x_tuple = ('abcde', 12345)\n",
    "print(f'Befoe: {x_tuple = }')\n",
    "try:\n",
    "    x_tuple[1] = 'fghij'\n",
    "except TypeError as e:\n",
    "    print(f'Error : {e}')\n",
    "print(f'After : {x_tuple = }')\n",
    "\n",
    "    "
   ]
  },
  {
   "cell_type": "code",
   "execution_count": 2,
   "metadata": {},
   "outputs": [
    {
     "name": "stdout",
     "output_type": "stream",
     "text": [
      "12345는 <class 'int'>\n",
      "------------------------------\n",
      "12345.0는 <class 'float'>\n",
      "------------------------------\n",
      "12345는 <class 'str'>\n",
      "------------------------------\n",
      "True는 <class 'bool'>\n"
     ]
    }
   ],
   "source": [
    "var_x = 12345\n",
    "print(f'{var_x}는 {type(var_x)}' , end='\\n'+'-'*30+'\\n')\n",
    "var_y = float(var_x)\n",
    "print(f'{var_y}는 {type(var_y)}' , end='\\n'+'-'*30+'\\n')\n",
    "var_y = str(var_x)\n",
    "print(f'{var_y}는 {type(var_y)}' , end='\\n'+'-'*30+'\\n')\n",
    "var_y = bool(var_x)\n",
    "print(f'{var_y}는 {type(var_y)}')"
   ]
  },
  {
   "cell_type": "code",
   "execution_count": 3,
   "metadata": {},
   "outputs": [
    {
     "name": "stdout",
     "output_type": "stream",
     "text": [
      "range(-10, 0, 2)는 <class 'range'>\n",
      "------------------------------\n",
      "[-10, -8, -6, -4, -2]= <class 'list'>\n",
      "------------------------------\n",
      "(-10, -8, -6, -4, -2)는 <class 'tuple'>\n",
      "------------------------------\n",
      "(-10, -8, -6, -4, -2)는 <class 'tuple'>\n",
      "------------------------------\n",
      "{-10, -8, -6, -4, -2}는 <class 'set'>\n"
     ]
    }
   ],
   "source": [
    "var_x = range(-10, 0, 2)\n",
    "print(f'{var_x}는 {type(var_x)}', end='\\n'+'-'*30+'\\n')\n",
    "var_y = list(var_x)\n",
    "print(f'{var_y}= {type(var_y)}', end='\\n'+'-'*30+'\\n')\n",
    "var_y = tuple(var_x)\n",
    "print(f'{var_y}는 {type(var_y)}', end='\\n'+'-'*30+'\\n')\n",
    "print(f'{var_y}는 {type(var_y)}', end='\\n'+'-'*30+'\\n')\n",
    "var_y = set(var_x)\n",
    "print(f'{var_y}는 {type(var_y)}')\n"
   ]
  },
  {
   "cell_type": "code",
   "execution_count": 4,
   "metadata": {},
   "outputs": [
    {
     "name": "stdout",
     "output_type": "stream",
     "text": [
      "abcdab는 <class 'str'>\n",
      "------------------------------\n",
      "['a', 'b', 'c', 'd', 'a', 'b']는 <class 'list'>\n",
      "------------------------------\n",
      "('a', 'b', 'c', 'd', 'a', 'b')는 <class 'tuple'>\n",
      "------------------------------\n",
      "{'a', 'b', 'c', 'd'}는 <class 'set'>\n",
      "------------------------------\n"
     ]
    }
   ],
   "source": [
    "var_x = \"abcdab\"\n",
    "print(f'{var_x}는 {type(var_x)}', end='\\n'+'-'*30+'\\n')\n",
    "var_y = list(var_x)\n",
    "print(f'{var_y}는 {type(var_y)}', end='\\n'+'-'*30+'\\n')\n",
    "var_y = tuple(var_x)\n",
    "print(f'{var_y}는 {type(var_y)}', end='\\n'+'-'*30+'\\n')\n",
    "var_y = set(var_x)\n",
    "print(f'{var_y}는 {type(var_y)}', end='\\n'+'-'*30+'\\n')\n"
   ]
  },
  {
   "cell_type": "code",
   "execution_count": 5,
   "metadata": {},
   "outputs": [
    {
     "name": "stdout",
     "output_type": "stream",
     "text": [
      "여기서부터는 응용입니다\n"
     ]
    }
   ],
   "source": [
    "\n",
    "print('여기서부터는 응용입니다')\n"
   ]
  },
  {
   "cell_type": "code",
   "execution_count": 38,
   "metadata": {},
   "outputs": [
    {
     "name": "stdout",
     "output_type": "stream",
     "text": [
      "x_value = '안녕하세요 윤대훈입니다'\t\ttype(x_value) = <class 'str'>\n",
      "x_dict = '25학번 산업·데이터공학과 학생입니다'\ttype(x_dict) = <class 'str'>\n",
      "var_z3 =  '학번:'\t\t\t\ttype(var_z3) = <class 'str'>\n"
     ]
    }
   ],
   "source": [
    "# 여러가지 데이터의 유형\n",
    "#x_value에 문자열 '안녕하세요 윤대훈입니다'를 할당\n",
    "x_value = '안녕하세요 윤대훈입니다'\n",
    "#x_value의 값과 자료형을 출력 \n",
    "print(f'{x_value = }\\t\\t{type(x_value) = }')\n",
    "#x_dict에 문자열 '산업·데이터공학과 학생입니다'를 할당\n",
    "x_dict = '25학번 산업·데이터공학과 학생입니다'\n",
    "#x_dict의 값과 자료형을 출력\n",
    "print(f'{x_dict = }\\t{type(x_dict) = }')\n",
    "#var_z3에 문자열 '학번: C521044'를 출력\n",
    "var_z3 = '학번:'\n",
    "#var_z3의 값과 자료형을 출력\n",
    "print(f'{var_z3 =  }\\t\\t\\t\\t{type(var_z3) = }')\n",
    "\n",
    "\n",
    " "
   ]
  },
  {
   "cell_type": "code",
   "execution_count": 41,
   "metadata": {},
   "outputs": [
    {
     "name": "stdout",
     "output_type": "stream",
     "text": [
      "x_tuple = ['안녕하세요 윤대훈입니다', '25학번 산업·데이터공학과 학생입니다']\n",
      "type(x_tuple) = <class 'list'>\n",
      "var_z5 = 521044\t\ttype(var_z5) = <class 'int'>\n"
     ]
    }
   ],
   "source": [
    "#x_tuple에 x_value 와 x_dict를 원소로 갖는 튜플을 할당\n",
    "x_tuple = [x_value, x_dict]\n",
    "#x_tuple의 값과 자료형을 출력\n",
    "print(f'{x_tuple = }\\n{type(x_tuple) = }')\n",
    "#var_z5에 정수 521044를 할당\n",
    "var_z5 = 521044\n",
    "#var_z5의 값과 자료형을 출력\n",
    "print(f'{var_z5 = }\\t\\t{type(var_z5) = }')"
   ]
  },
  {
   "cell_type": "code",
   "execution_count": null,
   "metadata": {},
   "outputs": [
    {
     "name": "stdout",
     "output_type": "stream",
     "text": [
      "동해물과 백두산이 마르고 닳도록\n",
      "------------------------------\n",
      "하느님이 보우하사 우리나라 만세\n",
      "------------------------------\n",
      "무궁화 삼천리 화려 강산\n",
      "------------------------------\n",
      "대한 사람 대한으로 길이 보전하세\n"
     ]
    }
   ],
   "source": [
    "#애국가 1절을 적용용\n",
    "print('동해물과 백두산이 마르고 닳도록', end='\\n'+'-'*30+'\\n')\n",
    "print('하느님이 보우하사 우리나라 만세', end='\\n'+'-'*30+'\\n')\n",
    "print('무궁화 삼천리 화려 강산' , end='\\n'+'-'*30+'\\n')\n",
    "print('대한 사람 대한으로 길이 보전하세')"
   ]
  },
  {
   "cell_type": "code",
   "execution_count": null,
   "metadata": {},
   "outputs": [
    {
     "name": "stdout",
     "output_type": "stream",
     "text": [
      "Before: x_dict = {'name': 'Dae HunYoon', 'id': 521044}\n",
      "After : x_dict = {'name': '윤대훈', 'id': 521044}\n"
     ]
    }
   ],
   "source": [
    "#이름과 학번을 적용\n",
    "x_dict = {'name': 'Dae HunYoon', 'id': 521044 }\n",
    "print(f'Before: {x_dict = }')\n",
    "x_dict['name'] = '윤대훈'\n",
    "print(f'After : {x_dict = }')"
   ]
  },
  {
   "cell_type": "code",
   "execution_count": null,
   "metadata": {},
   "outputs": [
    {
     "name": "stdout",
     "output_type": "stream",
     "text": [
      "******************************\n",
      "안녕하세요~\n",
      "저는 윤대훈입니다\n",
      "홍익대학교 산업·데이터공학과 1학년입니다. \n",
      "******************************\n",
      "\n"
     ]
    }
   ],
   "source": [
    "#자신을을 소개하는 코드 \n",
    "print('*'*30)\n",
    "print('안녕하세요~')\n",
    "print('저는 윤대훈입니다')\n",
    "print('홍익대학교 산업·데이터공학과 1학년입니다.', '\\n'+'*'*30+'\\n')\n",
    "\n"
   ]
  },
  {
   "cell_type": "code",
   "execution_count": null,
   "metadata": {},
   "outputs": [],
   "source": []
  },
  {
   "cell_type": "code",
   "execution_count": null,
   "metadata": {},
   "outputs": [],
   "source": []
  },
  {
   "cell_type": "code",
   "execution_count": null,
   "metadata": {},
   "outputs": [],
   "source": []
  },
  {
   "cell_type": "code",
   "execution_count": null,
   "metadata": {},
   "outputs": [],
   "source": []
  },
  {
   "cell_type": "code",
   "execution_count": null,
   "metadata": {},
   "outputs": [],
   "source": []
  },
  {
   "cell_type": "code",
   "execution_count": null,
   "metadata": {},
   "outputs": [],
   "source": []
  },
  {
   "cell_type": "code",
   "execution_count": null,
   "metadata": {},
   "outputs": [],
   "source": []
  },
  {
   "cell_type": "code",
   "execution_count": null,
   "metadata": {},
   "outputs": [],
   "source": []
  },
  {
   "cell_type": "code",
   "execution_count": null,
   "metadata": {},
   "outputs": [],
   "source": []
  },
  {
   "cell_type": "code",
   "execution_count": null,
   "metadata": {},
   "outputs": [],
   "source": []
  },
  {
   "cell_type": "code",
   "execution_count": null,
   "metadata": {},
   "outputs": [],
   "source": []
  },
  {
   "cell_type": "code",
   "execution_count": null,
   "metadata": {},
   "outputs": [],
   "source": []
  },
  {
   "cell_type": "code",
   "execution_count": null,
   "metadata": {},
   "outputs": [],
   "source": []
  },
  {
   "cell_type": "code",
   "execution_count": null,
   "metadata": {},
   "outputs": [],
   "source": []
  },
  {
   "cell_type": "code",
   "execution_count": null,
   "metadata": {},
   "outputs": [],
   "source": []
  },
  {
   "cell_type": "code",
   "execution_count": null,
   "metadata": {},
   "outputs": [],
   "source": []
  },
  {
   "cell_type": "code",
   "execution_count": null,
   "metadata": {},
   "outputs": [],
   "source": []
  },
  {
   "cell_type": "code",
   "execution_count": null,
   "metadata": {},
   "outputs": [],
   "source": []
  }
 ],
 "metadata": {
  "kernelspec": {
   "display_name": "base",
   "language": "python",
   "name": "python3"
  },
  "language_info": {
   "codemirror_mode": {
    "name": "ipython",
    "version": 3
   },
   "file_extension": ".py",
   "mimetype": "text/x-python",
   "name": "python",
   "nbconvert_exporter": "python",
   "pygments_lexer": "ipython3",
   "version": "3.12.8"
  }
 },
 "nbformat": 4,
 "nbformat_minor": 2
}
