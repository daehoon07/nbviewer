{
 "cells": [
  {
   "cell_type": "markdown",
   "id": "53ce3547",
   "metadata": {},
   "source": [
    "함수"
   ]
  },
  {
   "cell_type": "code",
   "execution_count": 4,
   "id": "10344294",
   "metadata": {},
   "outputs": [],
   "source": [
    "def calcSumProduct(a,b=10):\n",
    "          plus = a+b\n",
    "          multiple = a*b\n",
    "          return plus, multiple\n"
   ]
  },
  {
   "cell_type": "code",
   "execution_count": 5,
   "id": "8c7d9fb2",
   "metadata": {},
   "outputs": [
    {
     "name": "stdout",
     "output_type": "stream",
     "text": [
      "sum = 10, product = 21\n"
     ]
    }
   ],
   "source": [
    "sum, product = calcSumProduct (3,7)\n",
    "print(f'{sum = }, {product = }')\n"
   ]
  },
  {
   "cell_type": "code",
   "execution_count": 6,
   "id": "b0af4910",
   "metadata": {},
   "outputs": [
    {
     "name": "stdout",
     "output_type": "stream",
     "text": [
      "sum = 13, product = 30\n"
     ]
    }
   ],
   "source": [
    "sum, product = calcSumProduct(3)\n",
    "print(f'{sum = }, {product = }')"
   ]
  },
  {
   "cell_type": "code",
   "execution_count": 7,
   "id": "22f69f7e",
   "metadata": {},
   "outputs": [
    {
     "name": "stdout",
     "output_type": "stream",
     "text": [
      "sum = 10, product = 21\n"
     ]
    }
   ],
   "source": [
    "sum, product = calcSumProduct(b=3, a=7)\n",
    "print(f'{sum = }, {product = }')\n"
   ]
  },
  {
   "cell_type": "code",
   "execution_count": 24,
   "id": "873d447f",
   "metadata": {},
   "outputs": [],
   "source": [
    "def calcSumProduct(a: int, b: int = 10) -> int:\n",
    "          \" 4 'calcSumProduct 함수는 a와 b를 더한 값과 곱한값을 튜플로 반환하는 함수이다.\"\"\"\n",
    "          print(f'{a = }, {b = }')\n",
    "          \n",
    "          plus = a+b\n",
    "          multiple = a*b\n",
    "          return plus, multiple\n"
   ]
  },
  {
   "cell_type": "code",
   "execution_count": 25,
   "id": "0bc7ec14",
   "metadata": {},
   "outputs": [
    {
     "name": "stdout",
     "output_type": "stream",
     "text": [
      "Help on function calcSumProduct in module __main__:\n",
      "\n",
      "calcSumProduct(a: int, b: int = 10) -> int\n",
      "    4 'calcSumProduct 함수는 a와 b를 더한 값과 곱한값을 튜플로 반환하는 함수이다.\n",
      "\n"
     ]
    }
   ],
   "source": [
    "help(calcSumProduct)"
   ]
  },
  {
   "cell_type": "code",
   "execution_count": null,
   "id": "4c02dca7",
   "metadata": {},
   "outputs": [],
   "source": []
  },
  {
   "cell_type": "code",
   "execution_count": null,
   "id": "7dbeb339",
   "metadata": {},
   "outputs": [],
   "source": []
  },
  {
   "cell_type": "code",
   "execution_count": 16,
   "id": "360e4456",
   "metadata": {},
   "outputs": [
    {
     "name": "stdout",
     "output_type": "stream",
     "text": [
      "inputs = (1, 2, 3)\n",
      "sum = np.int64(6), product = np.int64(6)\n",
      "\n",
      "inputs = (1, 2, 3, 4, 5, 6, 7, 8)\n",
      "sum = np.int64(36), product = np.int64(40320)\n"
     ]
    }
   ],
   "source": [
    "import numpy as np\n",
    "def calcSumProduct2(*inputs):\n",
    "          print(f'{inputs = }')\n",
    "          plus = np.sum(inputs)\n",
    "          multiple = np.prod(inputs)\n",
    "          return plus, multiple\n",
    "sum, product = calcSumProduct2(1,2,3)\n",
    "print(f'{sum = }, {product = }\\n')\n",
    "sum, product = calcSumProduct2(1,2,3,4,5,6,7,8)\n",
    "print(f'{sum = }, {product = }')"
   ]
  },
  {
   "cell_type": "code",
   "execution_count": 55,
   "id": "b74b280a",
   "metadata": {},
   "outputs": [
    {
     "name": "stdout",
     "output_type": "stream",
     "text": [
      "inputs = {'a': 1, 'b': 2}\n",
      "sum = 3, product = 2\n",
      "\n",
      "inputs = {'a': 1, 'b': 2, 'c': 3, 'd': 4}\n",
      "sum = 10, product = 24\n"
     ]
    }
   ],
   "source": [
    "import numpy as np\n",
    "def calcSumProduct2(**inputs):\n",
    "   \"\"\"calcsumProduct2 함수는 입력의 합과 곱을 튜플로 반환하는 함수이다.\"\"\"\n",
    "   print(f'{inputs = }')\n",
    "   plus = 0\n",
    "   multiple = 1\n",
    "   for _, value in inputs.items():\n",
    "      plus += value\n",
    "      multiple *= value\n",
    "   return plus, multiple\n",
    "sum, product = calcSumProduct2(a=1, b=2)\n",
    "print(f'{sum = }, {product = }\\n')\n",
    "sum, product = calcSumProduct2(a=1, b=2, c=3, d=4)\n",
    "print(f'{sum = }, {product = }')"
   ]
  },
  {
   "cell_type": "code",
   "execution_count": 29,
   "id": "3e8123dd",
   "metadata": {},
   "outputs": [
    {
     "name": "stdout",
     "output_type": "stream",
     "text": [
      "var_global = '전역 변수'\n",
      "var_local = '인자는 지역 변수'\n",
      "var_global = '전역 변수'\n",
      "name 'var_local' is not defined\n"
     ]
    }
   ],
   "source": [
    "var_global = '전역 변수'\n",
    "def useGlobalVariable(var_local):\n",
    "          print(f'{var_global = }')\n",
    "          print(f'{var_local = }')\n",
    "useGlobalVariable('인자는 지역 변수')\n",
    "print(f'{var_global = }')\n",
    "try:\n",
    "          print(f'{var_local = }')\n",
    "except NameError as e:\n",
    "          print(e)\n"
   ]
  },
  {
   "cell_type": "code",
   "execution_count": 31,
   "id": "3ef9c8c0",
   "metadata": {},
   "outputs": [
    {
     "name": "stdout",
     "output_type": "stream",
     "text": [
      "var_global = '전역 변수가 아닌 지역변수임'\n",
      "var_local = '인자는 지역 변수'\n",
      "var_global = '전역 변수'\n"
     ]
    }
   ],
   "source": [
    "var_global = '전역 변수'\n",
    "def useGlobalVariable(var_local):\n",
    "          var_global = '전역 변수가 아닌 지역변수임'\n",
    "          print(f'{var_global = }')\n",
    "          print(f'{var_local = }')\n",
    "useGlobalVariable('인자는 지역 변수')\n",
    "print(f'{var_global = }')\n"
   ]
  },
  {
   "cell_type": "code",
   "execution_count": 32,
   "id": "9267ae5e",
   "metadata": {},
   "outputs": [
    {
     "name": "stdout",
     "output_type": "stream",
     "text": [
      "var_global = '이제는 전역 변수임'\n",
      "var_local = '인자는 지역 변수'\n",
      "var_global = '이제는 전역 변수임'\n"
     ]
    }
   ],
   "source": [
    "var_global = '전역 변수'\n",
    "def useGlobalVariable(var_local):\n",
    "          global var_global\n",
    "          print(f'{var_global = }')\n",
    "          print(f'{var_local = }')\n",
    "var_global = '이제는 전역 변수임'\n",
    "useGlobalVariable('인자는 지역 변수')\n",
    "print(f'{var_global = }')"
   ]
  },
  {
   "cell_type": "code",
   "execution_count": null,
   "id": "54968698",
   "metadata": {},
   "outputs": [],
   "source": [
    "def 함수명(매개변수):\n",
    "          return 표현식\n",
    "Lambda 매개변수: 표현식\n",
    "함수명 = lambda 매개변수: 표현식\n",
    "일반 함수 정의\n",
    "def addTen(x):\n",
    "          return x+10\n",
    "addTen(5)"
   ]
  },
  {
   "cell_type": "code",
   "execution_count": 34,
   "id": "141e38dc",
   "metadata": {},
   "outputs": [
    {
     "data": {
      "text/plain": [
       "<function __main__.<lambda>(x)>"
      ]
     },
     "execution_count": 34,
     "metadata": {},
     "output_type": "execute_result"
    }
   ],
   "source": [
    "lambda x : x +10"
   ]
  },
  {
   "cell_type": "code",
   "execution_count": 36,
   "id": "2d6e31d9",
   "metadata": {},
   "outputs": [
    {
     "data": {
      "text/plain": [
       "15"
      ]
     },
     "execution_count": 36,
     "metadata": {},
     "output_type": "execute_result"
    }
   ],
   "source": [
    "(lambda x: x+10)(5)"
   ]
  },
  {
   "cell_type": "code",
   "execution_count": 37,
   "id": "e9fc9749",
   "metadata": {},
   "outputs": [
    {
     "data": {
      "text/plain": [
       "15"
      ]
     },
     "execution_count": 37,
     "metadata": {},
     "output_type": "execute_result"
    }
   ],
   "source": [
    "addTen = lambda x: x + 10\n",
    "addTen(5)"
   ]
  },
  {
   "cell_type": "code",
   "execution_count": 38,
   "id": "e1705b24",
   "metadata": {},
   "outputs": [
    {
     "data": {
      "text/plain": [
       "115"
      ]
     },
     "execution_count": 38,
     "metadata": {},
     "output_type": "execute_result"
    }
   ],
   "source": [
    "y = 100\n",
    "(lambda x : x+y+10)(5)"
   ]
  },
  {
   "cell_type": "code",
   "execution_count": 39,
   "id": "86a655a4",
   "metadata": {},
   "outputs": [
    {
     "data": {
      "text/plain": [
       "'(3의 배수) 9'"
      ]
     },
     "execution_count": 39,
     "metadata": {},
     "output_type": "execute_result"
    }
   ],
   "source": [
    "(lambda x: '(3의 배수) '+str(x) if x%3== 0 else x) (9)"
   ]
  },
  {
   "cell_type": "code",
   "execution_count": 40,
   "id": "fd0df64c",
   "metadata": {},
   "outputs": [
    {
     "data": {
      "text/plain": [
       "'(3의 배수) 9'"
      ]
     },
     "execution_count": 40,
     "metadata": {},
     "output_type": "execute_result"
    }
   ],
   "source": [
    "(lambda x: '(3의 배수) '+str(x) if x%3== 0 else x) (8)\n",
    "(lambda x: '(3의 배수) '+str(x) if x%3== 0 else float(x) if x%31 else x) (9)"
   ]
  },
  {
   "cell_type": "code",
   "execution_count": null,
   "id": "9f94b54c",
   "metadata": {},
   "outputs": [
    {
     "data": {
      "text/plain": [
       "7.0"
      ]
     },
     "execution_count": 42,
     "metadata": {},
     "output_type": "execute_result"
    }
   ],
   "source": [
    "(lambda x: '(3의 배수) '+str(x) if x%3== 0 else float(x) if x%3== 1 else x) (7)\n"
   ]
  },
  {
   "cell_type": "code",
   "execution_count": 44,
   "id": "3e3311a3",
   "metadata": {},
   "outputs": [
    {
     "data": {
      "text/plain": [
       "5"
      ]
     },
     "execution_count": 44,
     "metadata": {},
     "output_type": "execute_result"
    }
   ],
   "source": [
    "(lambda x: '(3의 배수) '+str(x) if x%3==0 else float(x) if x%3==1 else x) (5)"
   ]
  },
  {
   "cell_type": "code",
   "execution_count": 45,
   "id": "24b90912",
   "metadata": {},
   "outputs": [
    {
     "data": {
      "text/plain": [
       "3"
      ]
     },
     "execution_count": 45,
     "metadata": {},
     "output_type": "execute_result"
    }
   ],
   "source": [
    "(lambda x,y: x if x%3==0 else x+y) (3,4)\n"
   ]
  },
  {
   "cell_type": "code",
   "execution_count": 46,
   "id": "006a7f4c",
   "metadata": {},
   "outputs": [
    {
     "data": {
      "text/plain": [
       "6"
      ]
     },
     "execution_count": 46,
     "metadata": {},
     "output_type": "execute_result"
    }
   ],
   "source": [
    "(lambda x,y: x if x%3==0 else x+y) (2,4)"
   ]
  },
  {
   "cell_type": "code",
   "execution_count": 47,
   "id": "a876cacd",
   "metadata": {},
   "outputs": [
    {
     "data": {
      "text/plain": [
       "[11, 12, 13]"
      ]
     },
     "execution_count": 47,
     "metadata": {},
     "output_type": "execute_result"
    }
   ],
   "source": [
    "list(map(lambda x: x+10, [1,2,3]))"
   ]
  },
  {
   "cell_type": "code",
   "execution_count": 48,
   "id": "327221a4",
   "metadata": {},
   "outputs": [
    {
     "data": {
      "text/plain": [
       "['(3의 배수) 0', 1, 2, '(3의 배수) 3', 4, 5, '(3의 배수) 6', 7, 8, '(3의 배수) 9']"
      ]
     },
     "execution_count": 48,
     "metadata": {},
     "output_type": "execute_result"
    }
   ],
   "source": [
    "ldMultiple3 = lambda x: '(3의 배수) '+str(x) if x%3== 0 else x\n",
    "list(map(ldMultiple3, range(10)))\n"
   ]
  },
  {
   "cell_type": "code",
   "execution_count": 50,
   "id": "888ecd30",
   "metadata": {},
   "outputs": [
    {
     "data": {
      "text/plain": [
       "['(3의 배수) 0', 1.0, 2, '(3의 배수) 3', 4.0, 5, '(3의 배수) 6', 7.0, 8, '(3의 배수) 9']"
      ]
     },
     "execution_count": 50,
     "metadata": {},
     "output_type": "execute_result"
    }
   ],
   "source": [
    "ldMultiple3f = lambda x: '(3의 배수) '+str(x) if x%3== 0 else float(x) if x%3== 1 else x\n",
    "list(map(ldMultiple3f, range(10)))"
   ]
  },
  {
   "cell_type": "code",
   "execution_count": 51,
   "id": "98ff4a91",
   "metadata": {},
   "outputs": [
    {
     "data": {
      "text/plain": [
       "[0, 101, 102, 3, 104, 105, 6, 107, 108, 9]"
      ]
     },
     "execution_count": 51,
     "metadata": {},
     "output_type": "execute_result"
    }
   ],
   "source": [
    "ldMultiple3a = lambda x, y: x if x%3==0 else x+y\n",
    "list(map(ldMultiple3a, range(10), [100]*10))\n"
   ]
  },
  {
   "cell_type": "code",
   "execution_count": 56,
   "id": "b61de3cc",
   "metadata": {},
   "outputs": [
    {
     "name": "stdout",
     "output_type": "stream",
     "text": [
      "여기서부터는 응용입니다\n"
     ]
    }
   ],
   "source": [
    "print('여기서부터는 응용입니다')"
   ]
  },
  {
   "cell_type": "code",
   "execution_count": 57,
   "id": "daad7b1f",
   "metadata": {},
   "outputs": [
    {
     "name": "stdout",
     "output_type": "stream",
     "text": [
      "result = 8\n"
     ]
    }
   ],
   "source": [
    "# 두 수를 더하는 함수\n",
    "# add 함수는 두 수를 받아서 더한 값을 반환\n",
    "def add(a, b):\n",
    "    return a + b\n",
    "\n",
    "result = add(3, 5)\n",
    "print(f'{result = }')"
   ]
  },
  {
   "cell_type": "code",
   "execution_count": 65,
   "id": "62a0b3b2",
   "metadata": {},
   "outputs": [
    {
     "name": "stdout",
     "output_type": "stream",
     "text": [
      "True\n",
      "False\n",
      "True\n"
     ]
    }
   ],
   "source": [
    "#짝수/홀수 판별\n",
    "#even 함수는 num%2 == 0이면 True를, num%2 != 0이면 False를 반환\n",
    "def even(num):\n",
    "    return num % 2 == 0\n",
    "\n",
    "print(even(4))\n",
    "print(even(7)) \n",
    "print(even(14))"
   ]
  },
  {
   "cell_type": "code",
   "execution_count": 66,
   "id": "13aec3d1",
   "metadata": {},
   "outputs": [
    {
     "name": "stdout",
     "output_type": "stream",
     "text": [
      "[1, 3, 5]\n"
     ]
    }
   ],
   "source": [
    "# 리스트에서 홀수를 찾아내는 함수\n",
    "# 컴프리헨션을 사용하여 홀수를 추출해 내는 함수를 생성성\n",
    "def finding_odds(numbers):\n",
    "    return [n for n in numbers if n % 2 == 1]\n",
    "\n",
    "print(finding_odds([1, 2, 3, 4, 5]))"
   ]
  },
  {
   "cell_type": "code",
   "execution_count": 67,
   "id": "9cdf54cf",
   "metadata": {},
   "outputs": [
    {
     "name": "stdout",
     "output_type": "stream",
     "text": [
      "5\n"
     ]
    }
   ],
   "source": [
    "# 문자열 길이를 반환하는 함수\n",
    "#str_length 함수는 문자열의 길이를 반환하는 함수수\n",
    "def str_length(s):\n",
    "    return len(s)\n",
    "\n",
    "print(str_length(\"hello\"))"
   ]
  },
  {
   "cell_type": "code",
   "execution_count": null,
   "id": "351087f8",
   "metadata": {},
   "outputs": [
    {
     "name": "stdout",
     "output_type": "stream",
     "text": [
      "[3, 6, 9, 12, 15, 18, 21, 24, 27]\n"
     ]
    }
   ],
   "source": [
    "# 구구단 함수\n",
    "#for문을 사용하여 구구단 함수를 생성\n",
    "def gugudan(n):\n",
    "    return [n * i for i in range(1, 10)]\n",
    "\n",
    "print(gugudan(3))"
   ]
  },
  {
   "cell_type": "code",
   "execution_count": null,
   "id": "59f7fbf5",
   "metadata": {},
   "outputs": [
    {
     "name": "stdout",
     "output_type": "stream",
     "text": [
      "3 99\n"
     ]
    }
   ],
   "source": []
  },
  {
   "cell_type": "code",
   "execution_count": null,
   "id": "2d2df667",
   "metadata": {},
   "outputs": [],
   "source": []
  },
  {
   "cell_type": "code",
   "execution_count": null,
   "id": "32a44e2e",
   "metadata": {},
   "outputs": [],
   "source": []
  },
  {
   "cell_type": "code",
   "execution_count": null,
   "id": "2f9bc9a1",
   "metadata": {},
   "outputs": [],
   "source": []
  },
  {
   "cell_type": "code",
   "execution_count": null,
   "id": "7ffceade",
   "metadata": {},
   "outputs": [],
   "source": []
  },
  {
   "cell_type": "code",
   "execution_count": null,
   "id": "a72a532a",
   "metadata": {},
   "outputs": [],
   "source": []
  },
  {
   "cell_type": "code",
   "execution_count": null,
   "id": "9e960446",
   "metadata": {},
   "outputs": [],
   "source": []
  },
  {
   "cell_type": "code",
   "execution_count": null,
   "id": "ecce94bf",
   "metadata": {},
   "outputs": [],
   "source": []
  },
  {
   "cell_type": "code",
   "execution_count": null,
   "id": "0d710ac8",
   "metadata": {},
   "outputs": [],
   "source": []
  },
  {
   "cell_type": "code",
   "execution_count": null,
   "id": "e73ff418",
   "metadata": {},
   "outputs": [],
   "source": []
  },
  {
   "cell_type": "code",
   "execution_count": null,
   "id": "622b1e6a",
   "metadata": {},
   "outputs": [],
   "source": []
  },
  {
   "cell_type": "code",
   "execution_count": null,
   "id": "f782f520",
   "metadata": {},
   "outputs": [],
   "source": []
  },
  {
   "cell_type": "code",
   "execution_count": null,
   "id": "c3e944d3",
   "metadata": {},
   "outputs": [],
   "source": []
  },
  {
   "cell_type": "code",
   "execution_count": null,
   "id": "81f51e27",
   "metadata": {},
   "outputs": [],
   "source": []
  },
  {
   "cell_type": "code",
   "execution_count": null,
   "id": "72f6a8d9",
   "metadata": {},
   "outputs": [],
   "source": []
  },
  {
   "cell_type": "code",
   "execution_count": null,
   "id": "19b6f986",
   "metadata": {},
   "outputs": [],
   "source": []
  },
  {
   "cell_type": "code",
   "execution_count": null,
   "id": "60e6bbbe",
   "metadata": {},
   "outputs": [],
   "source": []
  },
  {
   "cell_type": "code",
   "execution_count": null,
   "id": "b9a8d457",
   "metadata": {},
   "outputs": [],
   "source": []
  },
  {
   "cell_type": "code",
   "execution_count": null,
   "id": "b2de3799",
   "metadata": {},
   "outputs": [],
   "source": []
  },
  {
   "cell_type": "code",
   "execution_count": null,
   "id": "7b61c365",
   "metadata": {},
   "outputs": [],
   "source": []
  },
  {
   "cell_type": "code",
   "execution_count": null,
   "id": "bbfcfb65",
   "metadata": {},
   "outputs": [],
   "source": []
  },
  {
   "cell_type": "code",
   "execution_count": null,
   "id": "c24332a7",
   "metadata": {},
   "outputs": [],
   "source": []
  },
  {
   "cell_type": "code",
   "execution_count": null,
   "id": "95b01c09",
   "metadata": {},
   "outputs": [],
   "source": []
  },
  {
   "cell_type": "code",
   "execution_count": null,
   "id": "b781d944",
   "metadata": {},
   "outputs": [],
   "source": []
  },
  {
   "cell_type": "code",
   "execution_count": null,
   "id": "a90f522b",
   "metadata": {},
   "outputs": [],
   "source": []
  },
  {
   "cell_type": "code",
   "execution_count": null,
   "id": "ba066eac",
   "metadata": {},
   "outputs": [],
   "source": []
  },
  {
   "cell_type": "code",
   "execution_count": null,
   "id": "b8525330",
   "metadata": {},
   "outputs": [],
   "source": []
  },
  {
   "cell_type": "code",
   "execution_count": null,
   "id": "ac913341",
   "metadata": {},
   "outputs": [],
   "source": []
  },
  {
   "cell_type": "code",
   "execution_count": null,
   "id": "0f407901",
   "metadata": {},
   "outputs": [],
   "source": []
  },
  {
   "cell_type": "code",
   "execution_count": null,
   "id": "e423b9e4",
   "metadata": {},
   "outputs": [],
   "source": []
  },
  {
   "cell_type": "code",
   "execution_count": null,
   "id": "123aa786",
   "metadata": {},
   "outputs": [],
   "source": []
  }
 ],
 "metadata": {
  "kernelspec": {
   "display_name": "base",
   "language": "python",
   "name": "python3"
  },
  "language_info": {
   "codemirror_mode": {
    "name": "ipython",
    "version": 3
   },
   "file_extension": ".py",
   "mimetype": "text/x-python",
   "name": "python",
   "nbconvert_exporter": "python",
   "pygments_lexer": "ipython3",
   "version": "3.12.8"
  }
 },
 "nbformat": 4,
 "nbformat_minor": 5
}
