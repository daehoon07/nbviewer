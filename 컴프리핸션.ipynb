{
 "cells": [
  {
   "cell_type": "markdown",
   "id": "49999f63",
   "metadata": {},
   "source": [
    "컴프리핸션션"
   ]
  },
  {
   "cell_type": "code",
   "execution_count": 1,
   "id": "258e6710",
   "metadata": {},
   "outputs": [
    {
     "name": "stdout",
     "output_type": "stream",
     "text": [
      "nums_comp = [11, 12, 13, 14, 15]\n"
     ]
    }
   ],
   "source": [
    "nums_comp = [num+10 for num in range(1, 6)]\n",
    "print(f'{nums_comp = }')"
   ]
  },
  {
   "cell_type": "code",
   "execution_count": 4,
   "id": "df12157a",
   "metadata": {},
   "outputs": [
    {
     "name": "stdout",
     "output_type": "stream",
     "text": [
      "nums_for = [11, 12, 13, 14, 15]\n"
     ]
    }
   ],
   "source": [
    "nums_for = []\n",
    "for num in range(1, 6):\n",
    "          nums_for.append(num+10)\n",
    "print(f'{nums_for = }')"
   ]
  },
  {
   "cell_type": "code",
   "execution_count": 5,
   "id": "850ea689",
   "metadata": {},
   "outputs": [
    {
     "data": {
      "text/plain": [
       "15"
      ]
     },
     "execution_count": 5,
     "metadata": {},
     "output_type": "execute_result"
    }
   ],
   "source": [
    "def add_ten(num):\n",
    "          return num+10\n",
    "add_ten(5)\n"
   ]
  },
  {
   "cell_type": "code",
   "execution_count": 6,
   "id": "edcfaa2c",
   "metadata": {},
   "outputs": [
    {
     "data": {
      "text/plain": [
       "<map at 0x17817615f90>"
      ]
     },
     "execution_count": 6,
     "metadata": {},
     "output_type": "execute_result"
    }
   ],
   "source": [
    "map(add_ten, [1,2,3,4,5])"
   ]
  },
  {
   "cell_type": "code",
   "execution_count": 7,
   "id": "33bc2542",
   "metadata": {},
   "outputs": [
    {
     "data": {
      "text/plain": [
       "[11, 12, 13, 14, 15]"
      ]
     },
     "execution_count": 7,
     "metadata": {},
     "output_type": "execute_result"
    }
   ],
   "source": [
    "list(map(add_ten, [1,2,3,4,5]))"
   ]
  },
  {
   "cell_type": "code",
   "execution_count": 8,
   "id": "71cc8f85",
   "metadata": {},
   "outputs": [
    {
     "name": "stdout",
     "output_type": "stream",
     "text": [
      "nums_map = [11, 12, 13, 14, 15]\n"
     ]
    }
   ],
   "source": [
    "nums_map = list(map(add_ten, range(1,6)))\n",
    "print(f'{nums_map = }')"
   ]
  },
  {
   "cell_type": "code",
   "execution_count": 10,
   "id": "5ac7399a",
   "metadata": {},
   "outputs": [
    {
     "name": "stdout",
     "output_type": "stream",
     "text": [
      "nums_math = [1, 3, 5, 7, 9]\n"
     ]
    }
   ],
   "source": [
    "nums_math = [num*2-1 for num in range(1,6)]\n",
    "print(f'{nums_math = }')"
   ]
  },
  {
   "cell_type": "code",
   "execution_count": 12,
   "id": "dcb1c38d",
   "metadata": {},
   "outputs": [
    {
     "name": "stdout",
     "output_type": "stream",
     "text": [
      "nums_func = ['Int_1', 'Int_2', 'Int_3', 'Int_4', 'Int_5']\n"
     ]
    }
   ],
   "source": [
    "def addString(x):\n",
    "          return'Int_' + str(x)\n",
    "nums_func = [addString(num) for num in range(1,6)]\n",
    "print(f'{nums_func = }')"
   ]
  },
  {
   "cell_type": "code",
   "execution_count": 14,
   "id": "27e64a74",
   "metadata": {},
   "outputs": [
    {
     "name": "stdout",
     "output_type": "stream",
     "text": [
      "nums_odds = [1, 3, 5]\n"
     ]
    }
   ],
   "source": [
    "nums_odds = [num for num in range(1,6) if num%2 ==1]\n",
    "print(f'{nums_odds = }')"
   ]
  },
  {
   "cell_type": "code",
   "execution_count": 18,
   "id": "0e0444d4",
   "metadata": {},
   "outputs": [
    {
     "name": "stdout",
     "output_type": "stream",
     "text": [
      "nums_odds_zero = [1, 0, 3, 0, 5]\n"
     ]
    }
   ],
   "source": [
    "nums_odds_zero = [num if num % 2 == 1 else 0 for num in range(1,6)]\n",
    "print(f'{nums_odds_zero = }')\n"
   ]
  },
  {
   "cell_type": "code",
   "execution_count": 25,
   "id": "30eee68b",
   "metadata": {},
   "outputs": [
    {
     "name": "stdout",
     "output_type": "stream",
     "text": [
      "nums_odds_less4 = [1, 3]\n"
     ]
    }
   ],
   "source": [
    "nums_odds_less4 = [num for num in range(1, 6) if num % 2 ==1 if num < 4]\n",
    "print(f'{nums_odds_less4 = }')"
   ]
  },
  {
   "cell_type": "code",
   "execution_count": 26,
   "id": "f0537652",
   "metadata": {},
   "outputs": [
    {
     "name": "stdout",
     "output_type": "stream",
     "text": [
      "[(1, 'a'), (1, 'b'), (1, 'c'), (2, 'a'), (2, 'b'), (2, 'c')]\n"
     ]
    }
   ],
   "source": [
    "nums_pairs = [(x,y) for x in range(1, 3) for y in ['a', 'b', 'c']]\n",
    "print(f'{nums_pairs}')"
   ]
  },
  {
   "cell_type": "code",
   "execution_count": 28,
   "id": "282d18ac",
   "metadata": {},
   "outputs": [
    {
     "name": "stdout",
     "output_type": "stream",
     "text": [
      "num_pairs_sum5 = [(1, 4), (2, 3), (3, 2), (4, 1)]\n"
     ]
    }
   ],
   "source": [
    "num_pairs_sum5 = [(x,y) for x in range(1, 6) for y in range(1, 6) if x+y==5]\n",
    "print(f'{num_pairs_sum5 = }')"
   ]
  },
  {
   "cell_type": "code",
   "execution_count": 29,
   "id": "fecfa515",
   "metadata": {},
   "outputs": [
    {
     "name": "stdout",
     "output_type": "stream",
     "text": [
      "students_for = {1: '최딕션', 2: '최딕션', 3: '최딕션', 4: '최딕션'}\n"
     ]
    }
   ],
   "source": [
    "ids = [1, 2, 3, 4]\n",
    "student_names = ['김홍익', '이컴프리', '박헨션', '최딕션']\n",
    "students_for = {id:name for id in ids for name in student_names}\n",
    "print(f'{students_for = }')\n"
   ]
  },
  {
   "cell_type": "code",
   "execution_count": 30,
   "id": "2b915e5f",
   "metadata": {},
   "outputs": [
    {
     "name": "stdout",
     "output_type": "stream",
     "text": [
      "students_enumerate = {0: '김홍익', 1: '이컴프리', 2: '박헨션', 3: '최딕션'}\n"
     ]
    }
   ],
   "source": [
    "student_names = ['김홍익', '이컴프리', '박헨션', '최딕션']\n",
    "students_enumerate = {id:name for id, name in enumerate(student_names)}\n",
    "print(f'{students_enumerate = }')\n"
   ]
  },
  {
   "cell_type": "code",
   "execution_count": 32,
   "id": "9a401a86",
   "metadata": {},
   "outputs": [
    {
     "name": "stdout",
     "output_type": "stream",
     "text": [
      "students_zip = {1: '김홍익', 2: '이컴프리', 3: '박헨션', 4: '최딕션'}\n"
     ]
    }
   ],
   "source": [
    "ids = [1, 2, 3, 4]\n",
    "student_names = ['김홍익', '이컴프리', '박헨션', '최딕션']\n",
    "students_zip = {id:name for id, name in zip(ids, student_names)}\n",
    "print(f'{students_zip = }')\n"
   ]
  },
  {
   "cell_type": "code",
   "execution_count": 31,
   "id": "710c0d64",
   "metadata": {},
   "outputs": [
    {
     "name": "stdout",
     "output_type": "stream",
     "text": [
      "sum_list = [2, 3, 4, 5, 6, 3, 4, 5, 6, 7, 4, 5, 6, 7, 8, 5, 6, 7, 8, 9, 6, 7, 8, 9, 10]\n",
      "\n",
      "sum_set = {2, 3, 4, 5, 6, 7, 8, 9, 10}\n"
     ]
    }
   ],
   "source": [
    "sum_list = [x+y for x in range(1, 6) for y in range(1, 6)]\n",
    "print(f'{sum_list = }\\n')\n",
    "sum_set = {x+y for x in range(1, 6) for y in range(1, 6)}\n",
    "print(f'{sum_set = }')\n"
   ]
  },
  {
   "cell_type": "code",
   "execution_count": 33,
   "id": "6fa4c5f3",
   "metadata": {},
   "outputs": [
    {
     "name": "stdout",
     "output_type": "stream",
     "text": [
      "nums_pairs_list = [(1, 'a'), (1, 'b'), (1, 'c'), (2, 'a'), (2, 'b'), (2, 'c')]\n",
      "\n",
      "nums_pairs_tuple = <generator object <genexpr> at 0x0000017817C8A340>\n",
      "tuple(nums_pairs_tuple) = ((1, 'a'), (1, 'b'), (1, 'c'), (2, 'a'), (2, 'b'), (2, 'c'))\n",
      "\n",
      "nums_pairs_tuple2 = ((1, 'a'), (1, 'a'), (1, 'b'), (1, 'b'), (1, 'c'), (2, 'a'), (2, 'a'), (2, 'b'), (2, 'b'), (2, 'c'))\n"
     ]
    }
   ],
   "source": [
    "nums_pairs_list = [(x,y) for x in range(1, 3) for y in ['a', 'b', 'c']]\n",
    "print(f'{nums_pairs_list = }\\n')\n",
    "nums_pairs_tuple = ((x,y) for x in range(1, 3) for y in ['a', 'b', 'c'])\n",
    "print(f'{nums_pairs_tuple = }')\n",
    "print(f'{tuple(nums_pairs_tuple) = }\\n')\n",
    "nums_pairs_tuple2 = tuple((x,y) for x in range(1, 3) for y in ['a', 'a', 'b', 'b', 'c'])\n",
    "print(f'{nums_pairs_tuple2 = }')\n"
   ]
  },
  {
   "cell_type": "code",
   "execution_count": 34,
   "id": "8b9cff2e",
   "metadata": {},
   "outputs": [
    {
     "name": "stdout",
     "output_type": "stream",
     "text": [
      "여기서부터는 응용입니다\n"
     ]
    }
   ],
   "source": [
    "print('여기서부터는 응용입니다')\n"
   ]
  },
  {
   "cell_type": "code",
   "execution_count": 35,
   "id": "07d2f1a9",
   "metadata": {},
   "outputs": [
    {
     "name": "stdout",
     "output_type": "stream",
     "text": [
      "[1, 4, 9, 16, 25, 36, 49, 64, 81, 100]\n"
     ]
    }
   ],
   "source": [
    "#제곱 리스트 만들기\n",
    "#1부터 10까지 차례대로 x에 대입\n",
    "제곱= [x**2 for x in range(1, 11)]#제곱을 x**2로 표현\n",
    "print(제곱)"
   ]
  },
  {
   "cell_type": "code",
   "execution_count": null,
   "id": "c71a9ad3",
   "metadata": {},
   "outputs": [
    {
     "name": "stdout",
     "output_type": "stream",
     "text": [
      "['e', 'o', 'o']\n"
     ]
    }
   ],
   "source": [
    "#모음 추출\n",
    "text = 'Hello Python!'\n",
    "모음 = [ch for ch in text if ch in 'aeiou']\n",
    "#'aeiou'가 들어간 문자들만 추출출\n",
    "print(모음)"
   ]
  },
  {
   "cell_type": "code",
   "execution_count": 39,
   "id": "6adefd7e",
   "metadata": {},
   "outputs": [
    {
     "name": "stdout",
     "output_type": "stream",
     "text": [
      "evens = [2, 4, 6, 8, 10]\n"
     ]
    }
   ],
   "source": [
    "#짝수 추출\n",
    "#1부터 10까지 순차적으로 num에 대입,\n",
    "#num이 짝수면 리스트에 추가\n",
    "evens = [num for num in range(1, 11) if num % 2 == 0]\n",
    "print(f'{evens = }')\n",
    "\n",
    "\n"
   ]
  },
  {
   "cell_type": "code",
   "execution_count": null,
   "id": "709eaf49",
   "metadata": {},
   "outputs": [
    {
     "name": "stdout",
     "output_type": "stream",
     "text": [
      "fact = [6, 7, 8, 9, 10]\n"
     ]
    }
   ],
   "source": [
    "# x보다 큰 수만 담기\n",
    "# x를 5로 설정\n",
    "# x > 5 조건을 만족하는 수만 리스트에 추가\n",
    "fact = [x for x in range(1, 11) if x > 5]\n",
    "print(f'{fact = }')"
   ]
  },
  {
   "cell_type": "code",
   "execution_count": 37,
   "id": "cf65ec55",
   "metadata": {},
   "outputs": [
    {
     "name": "stdout",
     "output_type": "stream",
     "text": [
      "plus_ten = [11, 12, 13, 14, 15]\n"
     ]
    }
   ],
   "source": [
    "# 각 숫자에 10을 더한 값 리스트\n",
    "# num +10 -> 각 숫자에 10을 더함\n",
    "plus_ten = [num + 10 for num in range(1,6)]\n",
    "print(f'{plus_ten = }')"
   ]
  },
  {
   "cell_type": "code",
   "execution_count": null,
   "id": "79e03db4",
   "metadata": {},
   "outputs": [
    {
     "name": "stdout",
     "output_type": "stream",
     "text": [
      "letters = ['a', 'p', 'p', 'l', 'e']\n"
     ]
    }
   ],
   "source": [
    "# 문자열에서 각 글자를 리스트로 분리\n",
    "# 문자열 \"apple\"의 각 글자 ch를 하나씩 리스트에 담음\n",
    "letters = [ch for ch in \"apple\"]\n",
    "print(f'{letters = }')"
   ]
  },
  {
   "cell_type": "code",
   "execution_count": null,
   "id": "610127d0",
   "metadata": {},
   "outputs": [],
   "source": []
  },
  {
   "cell_type": "code",
   "execution_count": null,
   "id": "c142f90e",
   "metadata": {},
   "outputs": [],
   "source": []
  },
  {
   "cell_type": "code",
   "execution_count": null,
   "id": "abe01f96",
   "metadata": {},
   "outputs": [],
   "source": []
  },
  {
   "cell_type": "code",
   "execution_count": null,
   "id": "3dfed062",
   "metadata": {},
   "outputs": [],
   "source": []
  },
  {
   "cell_type": "code",
   "execution_count": null,
   "id": "5e93cef8",
   "metadata": {},
   "outputs": [],
   "source": []
  },
  {
   "cell_type": "code",
   "execution_count": null,
   "id": "3aba6904",
   "metadata": {},
   "outputs": [],
   "source": []
  },
  {
   "cell_type": "code",
   "execution_count": null,
   "id": "b4bf6fce",
   "metadata": {},
   "outputs": [],
   "source": []
  },
  {
   "cell_type": "code",
   "execution_count": null,
   "id": "30ec9882",
   "metadata": {},
   "outputs": [],
   "source": []
  },
  {
   "cell_type": "code",
   "execution_count": null,
   "id": "fd61d4b7",
   "metadata": {},
   "outputs": [],
   "source": []
  },
  {
   "cell_type": "code",
   "execution_count": null,
   "id": "7df84786",
   "metadata": {},
   "outputs": [],
   "source": []
  },
  {
   "cell_type": "code",
   "execution_count": null,
   "id": "aae34725",
   "metadata": {},
   "outputs": [],
   "source": []
  },
  {
   "cell_type": "code",
   "execution_count": null,
   "id": "11d6f8e6",
   "metadata": {},
   "outputs": [],
   "source": []
  },
  {
   "cell_type": "code",
   "execution_count": null,
   "id": "cb9a3dc9",
   "metadata": {},
   "outputs": [],
   "source": []
  }
 ],
 "metadata": {
  "kernelspec": {
   "display_name": "base",
   "language": "python",
   "name": "python3"
  },
  "language_info": {
   "codemirror_mode": {
    "name": "ipython",
    "version": 3
   },
   "file_extension": ".py",
   "mimetype": "text/x-python",
   "name": "python",
   "nbconvert_exporter": "python",
   "pygments_lexer": "ipython3",
   "version": "3.12.8"
  }
 },
 "nbformat": 4,
 "nbformat_minor": 5
}
